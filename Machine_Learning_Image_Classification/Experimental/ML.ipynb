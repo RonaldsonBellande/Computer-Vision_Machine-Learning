{
 "cells": [
  {
   "cell_type": "code",
   "execution_count": 4,
   "metadata": {},
   "outputs": [],
   "source": [
    "import matplotlib.pyplot as plt\n",
    "import numpy as np"
   ]
  },
  {
   "cell_type": "code",
   "execution_count": 5,
   "metadata": {
    "scrolled": true
   },
   "outputs": [
    {
     "data": {
      "image/png": "[encoded data removed]",
      "text/plain": [
       "<Figure size 432x288 with 1 Axes>"
      ]
     },
     "metadata": {
      "needs_background": "light"
     },
     "output_type": "display_data"
    }
   ],
   "source": [
    "X = [12,14,16,19,22,24,7,17,18,11]\n",
    "Y = [135, 115, 146, 167, 165, 176, 98, 136, 163, 119]\n",
    "\n",
    "plt.scatter(X,Y)\n",
    "plt.show()"
   ]
  },
  {
   "cell_type": "code",
   "execution_count": 10,
   "metadata": {},
   "outputs": [
    {
     "data": {
      "image/png": "[encoded data removed]",
      "text/plain": [
       "<Figure size 432x288 with 1 Axes>"
      ]
     },
     "metadata": {
      "needs_background": "light"
     },
     "output_type": "display_data"
    }
   ],
   "source": [
    "X = np.asarray(X)\n",
    "Y = np.asarray(Y)\n",
    "A = np.vstack([X, np.ones(len(X))]).T\n",
    "m, c = np.linalg.lstsq(A, Y, rcond=None)[0]\n",
    "plt.plot(X, m*X + c, 'r', label='Fitted line')\n",
    "plt.plot(X, Y, 'o', markersize=10)\n",
    "plt.show()"
   ]
  },
  {
   "cell_type": "code",
   "execution_count": 12,
   "metadata": {},
   "outputs": [
    {
     "name": "stdout",
     "output_type": "stream",
     "text": [
      "Variance of sample set is 1\n"
     ]
    }
   ],
   "source": [
    "import statistics\n",
    "\n",
    "sample = [0,1,2] \n",
    "print(\"Variance of sample set is % s\" \n",
    "      %(statistics.variance(sample))) "
   ]
  },
  {
   "cell_type": "code",
   "execution_count": 14,
   "metadata": {},
   "outputs": [
    {
     "name": "stdout",
     "output_type": "stream",
     "text": [
      "Expectation of array E(X) is :  1.2\n"
     ]
    }
   ],
   "source": [
    "def calc_Expectation(a): \n",
    "    prb = 0.1\n",
    "    prb2 = 0.6\n",
    "    prb3 = 0.3\n",
    "    sum1 = (a[0] * prb)\n",
    "    sum2 = (a[1] * prb2)\n",
    "    sum3 = (a[2] * prb3)\n",
    "    sum_all = sum1 + sum2 + sum3\n",
    "    return float(sum_all) \n",
    "   \n",
    "a = [0,1,2] \n",
    "  \n",
    "expect = calc_Expectation(a) \n",
    "print( \"Expectation of array E(X) is : \", \n",
    "                                 expect ) "
   ]
  },
  {
   "cell_type": "code",
   "execution_count": 16,
   "metadata": {},
   "outputs": [
    {
     "data": {
      "text/plain": [
       "array([0, 1, 3])"
      ]
     },
     "execution_count": 16,
     "metadata": {},
     "output_type": "execute_result"
    }
   ],
   "source": [
    "a = [0,1,2]\n",
    "np.cumsum(a)"
   ]
  },
  {
   "cell_type": "code",
   "execution_count": 21,
   "metadata": {
    "scrolled": true
   },
   "outputs": [
    {
     "name": "stdout",
     "output_type": "stream",
     "text": [
      "[[1 5]\n",
      " [1 3]\n",
      " [0 4]\n",
      " [0 4]\n",
      " [5 1]\n",
      " [6 2]\n",
      " [4 0]]\n",
      "k-Means Clustering Algorithm:\n",
      "Point: [1 5]\n",
      "Cluster: 0 \n",
      "\n",
      "Point: [1 3]\n",
      "Cluster: 0 \n",
      "\n",
      "Point: [0 4]\n",
      "Cluster: 0 \n",
      "\n",
      "Point: [0 4]\n",
      "Cluster: 0 \n",
      "\n",
      "Point: [5 1]\n",
      "Cluster: 0 \n",
      "\n",
      "Point: [6 2]\n",
      "Cluster: 0 \n",
      "\n",
      "Point: [4 0]\n",
      "Cluster: 0 \n",
      "\n",
      "Center Point: [[4 1]] \n",
      "\n"
     ]
    }
   ],
   "source": [
    "import numpy as np\n",
    "import csv\n",
    "import pandas as pd\n",
    "from sklearn.preprocessing import LabelEncoder\n",
    "from sklearn.preprocessing import StandardScaler\n",
    "from sklearn.model_selection import train_test_split\n",
    "from sklearn.linear_model import LinearRegression\n",
    "import matplotlib.pyplot as plt\n",
    "\n",
    "def euclidean_distance(point, center):\n",
    "    return np.sqrt(np.sum((point - center)**2))\n",
    "\n",
    "def label_cluster(distance, point, center):\n",
    "    minimum = min(distance, key=distance.get)\n",
    "    return [minimum, point, center[minimum]]\n",
    "\n",
    "def new_center(cluster_label, center):\n",
    "    return np.array(cluster_label + center)/2\n",
    "\n",
    "def create_center():\n",
    "    center = []\n",
    "    center.append([0, 0])\n",
    "    return np.array(center)\n",
    "\n",
    "def k_means(point, center, iteration = 100):\n",
    "    label = []\n",
    "    cluster = []\n",
    "    \n",
    "    for i in range(0, iteration):\n",
    "        for j in range(0, len(point)):\n",
    "            distance = {}\n",
    "            for l in range(0, len(center)):\n",
    "                distance[l] = euclidean_distance(point[j], center[l])\n",
    "            label = label_cluster(distance, point[j], center)\n",
    "            center[label[0]] = new_center(label[1], center[label[0]])\n",
    "            if i == (iteration - 1):\n",
    "                cluster.append(label)\n",
    "    return [cluster, center]\n",
    "\n",
    "def print_data(data_points):\n",
    "    print(\"k-Means Clustering Algorithm:\")\n",
    "    for intergrate in data_points[0]:\n",
    "        print(\"Point:\", intergrate[1])\n",
    "        print(\"Cluster:\", intergrate[0],\"\\n\")\n",
    "    print(\"Center Point:\", data_points[1],\"\\n\")\n",
    "    \n",
    "    \n",
    "def get_data():\n",
    "    data = []\n",
    "    data.append([1,5])\n",
    "    data.append([1,3])\n",
    "    data.append([0,4])\n",
    "    data.append([0,4])\n",
    "    data.append([5,1])\n",
    "    data.append([6,2])\n",
    "    data.append([4,0])\n",
    "    data = np.asarray(data)\n",
    "    print(data)\n",
    "    center = create_center()\n",
    "    [cluster, new_center] = k_means(data, center, iteration = 100)\n",
    "    print_data([cluster, new_center])\n",
    "    \n",
    "get_data()"
   ]
  },
  {
   "cell_type": "code",
   "execution_count": 23,
   "metadata": {},
   "outputs": [
    {
     "name": "stdout",
     "output_type": "stream",
     "text": [
      "[[0.5488135  0.71518937]\n",
      " [0.60276338 0.54488318]\n",
      " [0.4236548  0.64589411]\n",
      " ...\n",
      " [0.41443887 0.79128155]\n",
      " [0.72119811 0.48010781]\n",
      " [0.64386404 0.50177313]]\n"
     ]
    }
   ],
   "source": [
    "from scipy import spatial\n",
    "\n",
    "np.random.seed(0)\n",
    "n_centroids = 1000\n",
    "centroids = np.random.rand(n_centroids, 2)\n",
    "cluster_sizes = np.random.randint(1, 1000, size=n_centroids)\n",
    "\n",
    "print(centroids)"
   ]
  },
  {
   "cell_type": "code",
   "execution_count": 24,
   "metadata": {},
   "outputs": [],
   "source": [
    "labels = np.repeat(np.arange(n_centroids), cluster_sizes) + 1\n",
    "points = np.zeros((cluster_sizes.sum(), 2))\n",
    "points[:,0] = np.repeat(centroids[:,0], cluster_sizes)\n",
    "points[:,1] = np.repeat(centroids[:,1], cluster_sizes)\n",
    "points += 0.05 * np.random.randn(cluster_sizes.sum(), 2)"
   ]
  }
 ],
 "metadata": {
  "kernelspec": {
   "display_name": "Python 3",
   "language": "python",
   "name": "python3"
  },
  "language_info": {
   "codemirror_mode": {
    "name": "ipython",
    "version": 3
   },
   "file_extension": ".py",
   "mimetype": "text/x-python",
   "name": "python",
   "nbconvert_exporter": "python",
   "pygments_lexer": "ipython3",
   "version": "3.8.5"
  }
 },
 "nbformat": 4,
 "nbformat_minor": 4
}