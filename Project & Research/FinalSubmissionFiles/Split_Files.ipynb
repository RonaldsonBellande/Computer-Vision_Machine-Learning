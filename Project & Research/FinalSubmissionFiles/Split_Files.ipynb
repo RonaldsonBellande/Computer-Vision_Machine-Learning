{
 "cells": [
  {
   "cell_type": "code",
   "execution_count": 1,
   "metadata": {},
   "outputs": [],
   "source": [
    "import splitfolders"
   ]
  },
  {
   "cell_type": "code",
   "execution_count": 2,
   "metadata": {},
   "outputs": [
    {
     "output_type": "stream",
     "name": "stderr",
     "text": [
      "Copying files: 160 files [00:00, 336.32 files/s]\n"
     ]
    }
   ],
   "source": [
    "splitfolders.ratio(\"/home/ronaldsonbellande/Desktop/Machine Learning/Machine_Learning/Project & Research/small_split_images_folders/val/\", output=\"smaller_split_images_folders\", seed=1337, ratio=(.8, .1, .1), group_prefix=None)"
   ]
  }
 ],
 "metadata": {
  "kernelspec": {
   "display_name": "Python 3",
   "language": "python",
   "name": "python3"
  },
  "language_info": {
   "codemirror_mode": {
    "name": "ipython",
    "version": 3
   },
   "file_extension": ".py",
   "mimetype": "text/x-python",
   "name": "python",
   "nbconvert_exporter": "python",
   "pygments_lexer": "ipython3",
   "version": "3.8.5-final"
  }
 },
 "nbformat": 4,
 "nbformat_minor": 4
}