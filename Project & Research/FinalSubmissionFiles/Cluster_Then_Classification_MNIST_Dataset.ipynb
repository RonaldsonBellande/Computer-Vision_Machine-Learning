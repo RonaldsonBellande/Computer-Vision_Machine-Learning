{
  "nbformat": 4,
  "nbformat_minor": 0,
  "metadata": {
    "colab": {
      "name": "Cluster-Then-Classification-MNIST Dataset.ipynb",
      "provenance": [],
      "collapsed_sections": []
    },
    "kernelspec": {
      "name": "python3",
      "display_name": "Python 3"
    }
  },
  "cells": [
    {
      "cell_type": "markdown",
      "metadata": {
        "id": "WUE-P5g3dD5j"
      },
      "source": [
        "Using Clustering for Preprocessing for MNIST dataset\n",
        "\n"
      ]
    },
    {
      "cell_type": "code",
      "metadata": {
        "id": "goCIrC-YZx2o"
      },
      "source": [
        "from sklearn.datasets import load_digits\n",
        "from sklearn.model_selection import train_test_split\n",
        "from PIL import Image\n",
        "from numpy import asarray\n",
        "import os\n",
        "import numpy\n",
        "import glob\n",
        "from google.colab import files\n",
        "from google.colab import drive\n",
        "from sklearn.linear_model import LogisticRegression\n",
        "from sklearn.cluster import KMeans\n",
        "from sklearn.pipeline import Pipeline"
      ],
      "execution_count": null,
      "outputs": []
    },
    {
      "cell_type": "code",
      "metadata": {
        "colab": {
          "base_uri": "https://localhost:8080/"
        },
        "id": "YDOPAf2raUTD",
        "outputId": "f4955f34-112e-47bb-939f-04365df24ce9"
      },
      "source": [
        "X_digits, y_digits = load_digits(return_X_y=True)\n",
        "from sklearn.model_selection import train_test_split\n",
        "X_train, X_test, y_train, y_test = train_test_split(X_digits, y_digits, random_state=42)\n",
        "log_reg = LogisticRegression(multi_class=\"ovr\", solver=\"lbfgs\", max_iter=5000, random_state=42)\n",
        "log_reg.fit(X_train, y_train)\n",
        "log_reg.score(X_test, y_test)\n"
      ],
      "execution_count": null,
      "outputs": [
        {
          "output_type": "execute_result",
          "data": {
            "text/plain": [
              "0.9688888888888889"
            ]
          },
          "metadata": {
            "tags": []
          },
          "execution_count": 8
        }
      ]
    },
    {
      "cell_type": "code",
      "metadata": {
        "colab": {
          "base_uri": "https://localhost:8080/"
        },
        "id": "2PfxJ6BcaimT",
        "outputId": "1cb8a6db-167b-4d6a-ca60-1b784734980e"
      },
      "source": [
        "\n",
        "pipeline = Pipeline([\n",
        "    (\"kmeans\", KMeans(n_clusters=50, random_state=42)),\n",
        "    (\"log_reg\", LogisticRegression(multi_class=\"ovr\", solver=\"lbfgs\", max_iter=5000, random_state=42)),\n",
        "])\n",
        "pipeline.fit(X_train, y_train)\n",
        "pipeline.score(X_test, y_test)"
      ],
      "execution_count": null,
      "outputs": [
        {
          "output_type": "execute_result",
          "data": {
            "text/plain": [
              "0.98"
            ]
          },
          "metadata": {
            "tags": []
          },
          "execution_count": 9
        }
      ]
    },
    {
      "cell_type": "markdown",
      "metadata": {
        "id": "jo_0pxv3b1uF"
      },
      "source": [
        ""
      ]
    },
    {
      "cell_type": "code",
      "metadata": {
        "id": "0Spsf43lY_qZ",
        "colab": {
          "base_uri": "https://localhost:8080/"
        },
        "outputId": "14a7be80-86a2-441b-94ff-5873ea1d7bcf"
      },
      "source": [
        "from sklearn.datasets import load_digits\n",
        "from sklearn.model_selection import train_test_split\n",
        "from PIL import Image\n",
        "from numpy import asarray\n",
        "import os\n",
        "import numpy\n",
        "import glob\n",
        "from google.colab import files\n",
        "from google.colab import drive\n",
        "from sklearn.linear_model import LogisticRegression\n",
        "\n",
        "#Gets Dataset Image data and classes\n",
        "def loadDataSubSet(imageDirectory, imageSetPath):\n",
        "    NUM_PIXELS = 49152 #128x128 pixels * 3 values for RGB\n",
        "    CLASSES = ['aeroplane', 'bicycle', 'bird', 'boat', \n",
        "                  'bottle', 'bus', 'car', 'cat', 'chair',\n",
        "                  'cow', 'diningtable', 'dog', 'horse',\n",
        "                  'motorbike', 'person', 'plottedplant',\n",
        "                  'sheep', 'sofa', 'train', 'tvmonitor'] \n",
        "\n",
        "    #Open ImageSet File\n",
        "    imageSetFile = open(imageSetPath, 'r')\n",
        "    imgsInSet = [] \n",
        "    \n",
        "    print(\"Starting to load subset of images in: \",imageSetPath)\n",
        "\n",
        "    #Read in all Images in the ImageSet\n",
        "    while (True):\n",
        "        line = imageSetFile.readline().splitlines()\n",
        "        #If end line - exit loop \n",
        "        if not line: \n",
        "            break\n",
        "\n",
        "        #Convert the file name to a clean path to the associated file\n",
        "        cleanLine = str(line)[1:-1].replace('\\'', '')\n",
        "        cleanPath = os.path.join(imageDirectory,'*/{}.png'.format(cleanLine))\n",
        "        fullPath = glob.glob(cleanPath)\n",
        "        cleanFullPath = str(fullPath)[1:-1].replace('\\'', '')\n",
        "        imgsInSet.append(cleanFullPath)\n",
        "        #print(cleanFullPath)\n",
        "\n",
        "    print(\"Starting to process images in: \",imageSetPath)\n",
        "\n",
        "    #Load the images\n",
        "    #Initialize the containers\n",
        "    numImages = len(imgsInSet)\n",
        "    x_data = numpy.empty([numImages, NUM_PIXELS])\n",
        "    y_data = numpy.empty([numImages,])\n",
        "\n",
        "    #For each image, get image in appropriate format for x_data \n",
        "        #and class for y_data\n",
        "    i = 0\n",
        "    for filename in imgsInSet:\n",
        "        #Reshape data from image file\n",
        "        x_data[i] = asarray(Image.open(filename)).flatten().reshape(1, -1)\n",
        "        \n",
        "        #Identify the class that the image is part of. Convert to int\n",
        "        filePath = os.path.dirname(filename)\n",
        "        className = os.path.basename(filePath)\n",
        "        j = 0\n",
        "        for c in CLASSES:\n",
        "            if (c == className):\n",
        "                y_data[i] = j\n",
        "                break\n",
        "            j = j + 1\n",
        "\n",
        "        i = i + 1\n",
        "    print(\"Done: \",imageSetPath)\n",
        "    #print(x_data)\n",
        "    y_data = y_data.astype(int)\n",
        "    #print(y_data)\n",
        "    return x_data, y_data\n",
        "\n",
        "#Test loading digits dataset for comparison\n",
        "def loadImagesTest():\n",
        "    digits = load_digits()\n",
        "    X_digits, y_digits = load_digits(return_X_y=True)\n",
        "    print(\"[loadImagesTest]: X_digits Type: \",format(type(X_digits)))\n",
        "    print(\"[loadImagesTest]: X_digits Shape: \",format(X_digits.shape))\n",
        "    print(\"[loadImagesTest]: X_digit: \",format(X_digits))\n",
        "\n",
        "    print(\"[loadImagesTest]: y_digits Type: \",format(type(y_digits)))\n",
        "    print(\"[loadImagesTest]: y_digits Shape: \",format(y_digits.shape))\n",
        "    print(\"[loadImagesTest]: y_digit: \",format(y_digits))\n",
        "    #print(\"feature_names: \", format(digits.feature_names))\n",
        "    #print(\"target_names: \", format(digits.target_names))\n",
        "    X_train, X_test, y_train, y_test = train_test_split(X_digits, y_digits, random_state=42)\n",
        "    print(X_train)\n",
        "    print(X_test)\n",
        "    print(y_train)\n",
        "    print(y_test)\n",
        "\n",
        "#loadImagesTest()\n",
        "\n",
        "#Save Resized images and Imagesets to google drive\n",
        "drive.mount('/content/drive')\n",
        "imageDirectory = r'drive/My Drive/ResizedPNGImagesSmall'\n",
        "imageSetsDirectory = r'drive/My Drive/ImageSets/Main'\n",
        "\n",
        "imageSetTrainPath = os.path.join(imageSetsDirectory,'train.txt')\n",
        "imageSetValPath = os.path.join(imageSetsDirectory,'val.txt')\n",
        "\n",
        "x_train, y_train = loadDataSubSet(imageDirectory, imageSetTrainPath)\n",
        "x_test, y_test = loadDataSubSet(imageDirectory, imageSetValPath)\n",
        "\n",
        "log_reg = LogisticRegression(multi_class=\"ovr\", solver=\"lbfgs\", max_iter=5000, random_state=42)\n",
        "print(\"Training\")\n",
        "print(log_reg.fit(x_train, y_train))\n",
        "print(\"End Training.... Starting Test\")\n",
        "print(log_reg.score(x_test, y_test))\n"
      ],
      "execution_count": null,
      "outputs": [
        {
          "output_type": "stream",
          "text": [
            "Drive already mounted at /content/drive; to attempt to forcibly remount, call drive.mount(\"/content/drive\", force_remount=True).\n",
            "Starting to load subset of images in:  drive/My Drive/ImageSets/Main/train.txt\n",
            "Starting to process images in:  drive/My Drive/ImageSets/Main/train.txt\n",
            "Done:  drive/My Drive/ImageSets/Main/train.txt\n",
            "Starting to load subset of images in:  drive/My Drive/ImageSets/Main/val.txt\n",
            "Starting to process images in:  drive/My Drive/ImageSets/Main/val.txt\n",
            "Done:  drive/My Drive/ImageSets/Main/val.txt\n",
            "Training\n",
            "LogisticRegression(C=1.0, class_weight=None, dual=False, fit_intercept=True,\n",
            "                   intercept_scaling=1, l1_ratio=None, max_iter=5000,\n",
            "                   multi_class='ovr', n_jobs=None, penalty='l2',\n",
            "                   random_state=42, solver='lbfgs', tol=0.0001, verbose=0,\n",
            "                   warm_start=False)\n",
            "End Training.... Starting Test\n",
            "0.13326464021981796\n"
          ],
          "name": "stdout"
        }
      ]
    },
    {
      "cell_type": "code",
      "metadata": {
        "id": "ckI8ytePwSK0",
        "colab": {
          "base_uri": "https://localhost:8080/"
        },
        "outputId": "73231fec-042d-4c7c-cc96-b881e783b9f8"
      },
      "source": [
        "1 - (1 - 0.977777) / (1 - 0.968888)"
      ],
      "execution_count": null,
      "outputs": [
        {
          "output_type": "execute_result",
          "data": {
            "text/plain": [
              "0.28570969400874346"
            ]
          },
          "metadata": {
            "tags": []
          },
          "execution_count": 16
        }
      ]
    },
    {
      "cell_type": "markdown",
      "metadata": {
        "id": "Tfzo3umawUAF"
      },
      "source": [
        "How about that? We reduced the error rate by over 28%! But we chose the number of clusters $k$ completely arbitrarily, we can surely do better. Since K-Means is just a preprocessing step in a classification pipeline, finding a good value for $k$ is much simpler than earlier: there's no need to perform silhouette analysis or minimize the inertia, the best value of $k$ is simply the one that results in the best classification performance."
      ]
    },
    {
      "cell_type": "code",
      "metadata": {
        "id": "8fGAfq3KwU2F",
        "colab": {
          "base_uri": "https://localhost:8080/"
        },
        "outputId": "d2270081-8a80-4fd0-d8d0-51966be50e33"
      },
      "source": [
        "from sklearn.model_selection import GridSearchCV\n",
        "param_grid = dict(kmeans__n_clusters=range(2, 100))\n",
        "grid_clf = GridSearchCV(pipeline, param_grid, cv=3, verbose=2)\n",
        "grid_clf.fit(X_train, y_train)"
      ],
      "execution_count": null,
      "outputs": [
        {
          "output_type": "stream",
          "text": [
            "Fitting 3 folds for each of 98 candidates, totalling 294 fits\n",
            "[CV] kmeans__n_clusters=2 ............................................\n"
          ],
          "name": "stdout"
        },
        {
          "output_type": "stream",
          "text": [
            "[Parallel(n_jobs=1)]: Using backend SequentialBackend with 1 concurrent workers.\n"
          ],
          "name": "stderr"
        },
        {
          "output_type": "stream",
          "text": [
            "[CV] ............................. kmeans__n_clusters=2, total=   0.2s\n",
            "[CV] kmeans__n_clusters=2 ............................................\n"
          ],
          "name": "stdout"
        },
        {
          "output_type": "stream",
          "text": [
            "[Parallel(n_jobs=1)]: Done   1 out of   1 | elapsed:    0.2s remaining:    0.0s\n"
          ],
          "name": "stderr"
        },
        {
          "output_type": "stream",
          "text": [
            "[CV] ............................. kmeans__n_clusters=2, total=   0.2s\n",
            "[CV] kmeans__n_clusters=2 ............................................\n",
            "[CV] ............................. kmeans__n_clusters=2, total=   0.2s\n",
            "[CV] kmeans__n_clusters=3 ............................................\n",
            "[CV] ............................. kmeans__n_clusters=3, total=   0.2s\n",
            "[CV] kmeans__n_clusters=3 ............................................\n",
            "[CV] ............................. kmeans__n_clusters=3, total=   0.3s\n",
            "[CV] kmeans__n_clusters=3 ............................................\n",
            "[CV] ............................. kmeans__n_clusters=3, total=   0.2s\n",
            "[CV] kmeans__n_clusters=4 ............................................\n",
            "[CV] ............................. kmeans__n_clusters=4, total=   0.3s\n",
            "[CV] kmeans__n_clusters=4 ............................................\n",
            "[CV] ............................. kmeans__n_clusters=4, total=   0.3s\n",
            "[CV] kmeans__n_clusters=4 ............................................\n",
            "[CV] ............................. kmeans__n_clusters=4, total=   0.3s\n",
            "[CV] kmeans__n_clusters=5 ............................................\n",
            "[CV] ............................. kmeans__n_clusters=5, total=   0.3s\n",
            "[CV] kmeans__n_clusters=5 ............................................\n",
            "[CV] ............................. kmeans__n_clusters=5, total=   0.3s\n",
            "[CV] kmeans__n_clusters=5 ............................................\n",
            "[CV] ............................. kmeans__n_clusters=5, total=   0.3s\n",
            "[CV] kmeans__n_clusters=6 ............................................\n",
            "[CV] ............................. kmeans__n_clusters=6, total=   0.4s\n",
            "[CV] kmeans__n_clusters=6 ............................................\n",
            "[CV] ............................. kmeans__n_clusters=6, total=   0.4s\n",
            "[CV] kmeans__n_clusters=6 ............................................\n",
            "[CV] ............................. kmeans__n_clusters=6, total=   0.4s\n",
            "[CV] kmeans__n_clusters=7 ............................................\n",
            "[CV] ............................. kmeans__n_clusters=7, total=   0.4s\n",
            "[CV] kmeans__n_clusters=7 ............................................\n",
            "[CV] ............................. kmeans__n_clusters=7, total=   0.4s\n",
            "[CV] kmeans__n_clusters=7 ............................................\n",
            "[CV] ............................. kmeans__n_clusters=7, total=   0.5s\n",
            "[CV] kmeans__n_clusters=8 ............................................\n",
            "[CV] ............................. kmeans__n_clusters=8, total=   0.6s\n",
            "[CV] kmeans__n_clusters=8 ............................................\n",
            "[CV] ............................. kmeans__n_clusters=8, total=   0.6s\n",
            "[CV] kmeans__n_clusters=8 ............................................\n",
            "[CV] ............................. kmeans__n_clusters=8, total=   0.6s\n",
            "[CV] kmeans__n_clusters=9 ............................................\n",
            "[CV] ............................. kmeans__n_clusters=9, total=   0.7s\n",
            "[CV] kmeans__n_clusters=9 ............................................\n",
            "[CV] ............................. kmeans__n_clusters=9, total=   0.6s\n",
            "[CV] kmeans__n_clusters=9 ............................................\n",
            "[CV] ............................. kmeans__n_clusters=9, total=   0.7s\n",
            "[CV] kmeans__n_clusters=10 ...........................................\n",
            "[CV] ............................ kmeans__n_clusters=10, total=   0.8s\n",
            "[CV] kmeans__n_clusters=10 ...........................................\n",
            "[CV] ............................ kmeans__n_clusters=10, total=   0.9s\n",
            "[CV] kmeans__n_clusters=10 ...........................................\n",
            "[CV] ............................ kmeans__n_clusters=10, total=   0.9s\n",
            "[CV] kmeans__n_clusters=11 ...........................................\n",
            "[CV] ............................ kmeans__n_clusters=11, total=   1.2s\n",
            "[CV] kmeans__n_clusters=11 ...........................................\n",
            "[CV] ............................ kmeans__n_clusters=11, total=   1.3s\n",
            "[CV] kmeans__n_clusters=11 ...........................................\n",
            "[CV] ............................ kmeans__n_clusters=11, total=   1.2s\n",
            "[CV] kmeans__n_clusters=12 ...........................................\n",
            "[CV] ............................ kmeans__n_clusters=12, total=   1.5s\n",
            "[CV] kmeans__n_clusters=12 ...........................................\n",
            "[CV] ............................ kmeans__n_clusters=12, total=   1.6s\n",
            "[CV] kmeans__n_clusters=12 ...........................................\n",
            "[CV] ............................ kmeans__n_clusters=12, total=   1.6s\n",
            "[CV] kmeans__n_clusters=13 ...........................................\n",
            "[CV] ............................ kmeans__n_clusters=13, total=   1.9s\n",
            "[CV] kmeans__n_clusters=13 ...........................................\n",
            "[CV] ............................ kmeans__n_clusters=13, total=   1.6s\n",
            "[CV] kmeans__n_clusters=13 ...........................................\n",
            "[CV] ............................ kmeans__n_clusters=13, total=   1.8s\n",
            "[CV] kmeans__n_clusters=14 ...........................................\n",
            "[CV] ............................ kmeans__n_clusters=14, total=   2.1s\n",
            "[CV] kmeans__n_clusters=14 ...........................................\n",
            "[CV] ............................ kmeans__n_clusters=14, total=   1.9s\n",
            "[CV] kmeans__n_clusters=14 ...........................................\n",
            "[CV] ............................ kmeans__n_clusters=14, total=   2.0s\n",
            "[CV] kmeans__n_clusters=15 ...........................................\n",
            "[CV] ............................ kmeans__n_clusters=15, total=   2.4s\n",
            "[CV] kmeans__n_clusters=15 ...........................................\n",
            "[CV] ............................ kmeans__n_clusters=15, total=   2.1s\n",
            "[CV] kmeans__n_clusters=15 ...........................................\n",
            "[CV] ............................ kmeans__n_clusters=15, total=   2.2s\n",
            "[CV] kmeans__n_clusters=16 ...........................................\n",
            "[CV] ............................ kmeans__n_clusters=16, total=   2.6s\n",
            "[CV] kmeans__n_clusters=16 ...........................................\n",
            "[CV] ............................ kmeans__n_clusters=16, total=   2.6s\n",
            "[CV] kmeans__n_clusters=16 ...........................................\n",
            "[CV] ............................ kmeans__n_clusters=16, total=   2.3s\n",
            "[CV] kmeans__n_clusters=17 ...........................................\n",
            "[CV] ............................ kmeans__n_clusters=17, total=   2.9s\n",
            "[CV] kmeans__n_clusters=17 ...........................................\n",
            "[CV] ............................ kmeans__n_clusters=17, total=   2.7s\n",
            "[CV] kmeans__n_clusters=17 ...........................................\n",
            "[CV] ............................ kmeans__n_clusters=17, total=   2.4s\n",
            "[CV] kmeans__n_clusters=18 ...........................................\n",
            "[CV] ............................ kmeans__n_clusters=18, total=   3.2s\n",
            "[CV] kmeans__n_clusters=18 ...........................................\n",
            "[CV] ............................ kmeans__n_clusters=18, total=   3.0s\n",
            "[CV] kmeans__n_clusters=18 ...........................................\n",
            "[CV] ............................ kmeans__n_clusters=18, total=   3.0s\n",
            "[CV] kmeans__n_clusters=19 ...........................................\n",
            "[CV] ............................ kmeans__n_clusters=19, total=   3.2s\n",
            "[CV] kmeans__n_clusters=19 ...........................................\n",
            "[CV] ............................ kmeans__n_clusters=19, total=   3.0s\n",
            "[CV] kmeans__n_clusters=19 ...........................................\n",
            "[CV] ............................ kmeans__n_clusters=19, total=   3.0s\n",
            "[CV] kmeans__n_clusters=20 ...........................................\n",
            "[CV] ............................ kmeans__n_clusters=20, total=   3.4s\n",
            "[CV] kmeans__n_clusters=20 ...........................................\n",
            "[CV] ............................ kmeans__n_clusters=20, total=   3.4s\n",
            "[CV] kmeans__n_clusters=20 ...........................................\n",
            "[CV] ............................ kmeans__n_clusters=20, total=   3.3s\n",
            "[CV] kmeans__n_clusters=21 ...........................................\n",
            "[CV] ............................ kmeans__n_clusters=21, total=   3.7s\n",
            "[CV] kmeans__n_clusters=21 ...........................................\n",
            "[CV] ............................ kmeans__n_clusters=21, total=   3.7s\n",
            "[CV] kmeans__n_clusters=21 ...........................................\n",
            "[CV] ............................ kmeans__n_clusters=21, total=   3.4s\n",
            "[CV] kmeans__n_clusters=22 ...........................................\n",
            "[CV] ............................ kmeans__n_clusters=22, total=   3.3s\n",
            "[CV] kmeans__n_clusters=22 ...........................................\n",
            "[CV] ............................ kmeans__n_clusters=22, total=   3.8s\n",
            "[CV] kmeans__n_clusters=22 ...........................................\n",
            "[CV] ............................ kmeans__n_clusters=22, total=   3.5s\n",
            "[CV] kmeans__n_clusters=23 ...........................................\n",
            "[CV] ............................ kmeans__n_clusters=23, total=   3.7s\n",
            "[CV] kmeans__n_clusters=23 ...........................................\n",
            "[CV] ............................ kmeans__n_clusters=23, total=   4.1s\n",
            "[CV] kmeans__n_clusters=23 ...........................................\n",
            "[CV] ............................ kmeans__n_clusters=23, total=   3.7s\n",
            "[CV] kmeans__n_clusters=24 ...........................................\n",
            "[CV] ............................ kmeans__n_clusters=24, total=   4.2s\n",
            "[CV] kmeans__n_clusters=24 ...........................................\n",
            "[CV] ............................ kmeans__n_clusters=24, total=   4.0s\n",
            "[CV] kmeans__n_clusters=24 ...........................................\n",
            "[CV] ............................ kmeans__n_clusters=24, total=   3.9s\n",
            "[CV] kmeans__n_clusters=25 ...........................................\n",
            "[CV] ............................ kmeans__n_clusters=25, total=   4.0s\n",
            "[CV] kmeans__n_clusters=25 ...........................................\n",
            "[CV] ............................ kmeans__n_clusters=25, total=   4.4s\n",
            "[CV] kmeans__n_clusters=25 ...........................................\n",
            "[CV] ............................ kmeans__n_clusters=25, total=   3.9s\n",
            "[CV] kmeans__n_clusters=26 ...........................................\n",
            "[CV] ............................ kmeans__n_clusters=26, total=   4.5s\n",
            "[CV] kmeans__n_clusters=26 ...........................................\n",
            "[CV] ............................ kmeans__n_clusters=26, total=   4.3s\n",
            "[CV] kmeans__n_clusters=26 ...........................................\n",
            "[CV] ............................ kmeans__n_clusters=26, total=   4.1s\n",
            "[CV] kmeans__n_clusters=27 ...........................................\n",
            "[CV] ............................ kmeans__n_clusters=27, total=   4.1s\n",
            "[CV] kmeans__n_clusters=27 ...........................................\n",
            "[CV] ............................ kmeans__n_clusters=27, total=   4.2s\n",
            "[CV] kmeans__n_clusters=27 ...........................................\n",
            "[CV] ............................ kmeans__n_clusters=27, total=   4.3s\n",
            "[CV] kmeans__n_clusters=28 ...........................................\n",
            "[CV] ............................ kmeans__n_clusters=28, total=   4.6s\n",
            "[CV] kmeans__n_clusters=28 ...........................................\n",
            "[CV] ............................ kmeans__n_clusters=28, total=   4.4s\n",
            "[CV] kmeans__n_clusters=28 ...........................................\n",
            "[CV] ............................ kmeans__n_clusters=28, total=   4.5s\n",
            "[CV] kmeans__n_clusters=29 ...........................................\n",
            "[CV] ............................ kmeans__n_clusters=29, total=   4.6s\n",
            "[CV] kmeans__n_clusters=29 ...........................................\n",
            "[CV] ............................ kmeans__n_clusters=29, total=   4.7s\n",
            "[CV] kmeans__n_clusters=29 ...........................................\n",
            "[CV] ............................ kmeans__n_clusters=29, total=   4.3s\n",
            "[CV] kmeans__n_clusters=30 ...........................................\n",
            "[CV] ............................ kmeans__n_clusters=30, total=   5.0s\n",
            "[CV] kmeans__n_clusters=30 ...........................................\n",
            "[CV] ............................ kmeans__n_clusters=30, total=   4.5s\n",
            "[CV] kmeans__n_clusters=30 ...........................................\n",
            "[CV] ............................ kmeans__n_clusters=30, total=   4.3s\n",
            "[CV] kmeans__n_clusters=31 ...........................................\n",
            "[CV] ............................ kmeans__n_clusters=31, total=   5.0s\n",
            "[CV] kmeans__n_clusters=31 ...........................................\n",
            "[CV] ............................ kmeans__n_clusters=31, total=   5.1s\n",
            "[CV] kmeans__n_clusters=31 ...........................................\n",
            "[CV] ............................ kmeans__n_clusters=31, total=   4.0s\n",
            "[CV] kmeans__n_clusters=32 ...........................................\n",
            "[CV] ............................ kmeans__n_clusters=32, total=   4.8s\n",
            "[CV] kmeans__n_clusters=32 ...........................................\n",
            "[CV] ............................ kmeans__n_clusters=32, total=   4.9s\n",
            "[CV] kmeans__n_clusters=32 ...........................................\n",
            "[CV] ............................ kmeans__n_clusters=32, total=   4.4s\n",
            "[CV] kmeans__n_clusters=33 ...........................................\n",
            "[CV] ............................ kmeans__n_clusters=33, total=   5.0s\n",
            "[CV] kmeans__n_clusters=33 ...........................................\n",
            "[CV] ............................ kmeans__n_clusters=33, total=   5.0s\n",
            "[CV] kmeans__n_clusters=33 ...........................................\n",
            "[CV] ............................ kmeans__n_clusters=33, total=   4.9s\n",
            "[CV] kmeans__n_clusters=34 ...........................................\n",
            "[CV] ............................ kmeans__n_clusters=34, total=   5.4s\n",
            "[CV] kmeans__n_clusters=34 ...........................................\n",
            "[CV] ............................ kmeans__n_clusters=34, total=   5.7s\n",
            "[CV] kmeans__n_clusters=34 ...........................................\n",
            "[CV] ............................ kmeans__n_clusters=34, total=   4.8s\n",
            "[CV] kmeans__n_clusters=35 ...........................................\n",
            "[CV] ............................ kmeans__n_clusters=35, total=   5.6s\n",
            "[CV] kmeans__n_clusters=35 ...........................................\n",
            "[CV] ............................ kmeans__n_clusters=35, total=   5.4s\n",
            "[CV] kmeans__n_clusters=35 ...........................................\n",
            "[CV] ............................ kmeans__n_clusters=35, total=   4.7s\n",
            "[CV] kmeans__n_clusters=36 ...........................................\n",
            "[CV] ............................ kmeans__n_clusters=36, total=   5.1s\n",
            "[CV] kmeans__n_clusters=36 ...........................................\n",
            "[CV] ............................ kmeans__n_clusters=36, total=   5.5s\n",
            "[CV] kmeans__n_clusters=36 ...........................................\n",
            "[CV] ............................ kmeans__n_clusters=36, total=   5.9s\n",
            "[CV] kmeans__n_clusters=37 ...........................................\n",
            "[CV] ............................ kmeans__n_clusters=37, total=   5.1s\n",
            "[CV] kmeans__n_clusters=37 ...........................................\n",
            "[CV] ............................ kmeans__n_clusters=37, total=   4.8s\n",
            "[CV] kmeans__n_clusters=37 ...........................................\n",
            "[CV] ............................ kmeans__n_clusters=37, total=   5.1s\n",
            "[CV] kmeans__n_clusters=38 ...........................................\n",
            "[CV] ............................ kmeans__n_clusters=38, total=   5.0s\n",
            "[CV] kmeans__n_clusters=38 ...........................................\n",
            "[CV] ............................ kmeans__n_clusters=38, total=   4.9s\n",
            "[CV] kmeans__n_clusters=38 ...........................................\n",
            "[CV] ............................ kmeans__n_clusters=38, total=   4.8s\n",
            "[CV] kmeans__n_clusters=39 ...........................................\n",
            "[CV] ............................ kmeans__n_clusters=39, total=   4.9s\n",
            "[CV] kmeans__n_clusters=39 ...........................................\n",
            "[CV] ............................ kmeans__n_clusters=39, total=   5.8s\n",
            "[CV] kmeans__n_clusters=39 ...........................................\n",
            "[CV] ............................ kmeans__n_clusters=39, total=   4.6s\n",
            "[CV] kmeans__n_clusters=40 ...........................................\n",
            "[CV] ............................ kmeans__n_clusters=40, total=   5.1s\n",
            "[CV] kmeans__n_clusters=40 ...........................................\n",
            "[CV] ............................ kmeans__n_clusters=40, total=   5.1s\n",
            "[CV] kmeans__n_clusters=40 ...........................................\n",
            "[CV] ............................ kmeans__n_clusters=40, total=   4.9s\n",
            "[CV] kmeans__n_clusters=41 ...........................................\n",
            "[CV] ............................ kmeans__n_clusters=41, total=   5.4s\n",
            "[CV] kmeans__n_clusters=41 ...........................................\n",
            "[CV] ............................ kmeans__n_clusters=41, total=   5.1s\n",
            "[CV] kmeans__n_clusters=41 ...........................................\n",
            "[CV] ............................ kmeans__n_clusters=41, total=   5.9s\n",
            "[CV] kmeans__n_clusters=42 ...........................................\n",
            "[CV] ............................ kmeans__n_clusters=42, total=   5.4s\n",
            "[CV] kmeans__n_clusters=42 ...........................................\n",
            "[CV] ............................ kmeans__n_clusters=42, total=   5.1s\n",
            "[CV] kmeans__n_clusters=42 ...........................................\n",
            "[CV] ............................ kmeans__n_clusters=42, total=   5.2s\n",
            "[CV] kmeans__n_clusters=43 ...........................................\n",
            "[CV] ............................ kmeans__n_clusters=43, total=   5.5s\n",
            "[CV] kmeans__n_clusters=43 ...........................................\n",
            "[CV] ............................ kmeans__n_clusters=43, total=   6.1s\n",
            "[CV] kmeans__n_clusters=43 ...........................................\n",
            "[CV] ............................ kmeans__n_clusters=43, total=   5.2s\n",
            "[CV] kmeans__n_clusters=44 ...........................................\n",
            "[CV] ............................ kmeans__n_clusters=44, total=   8.6s\n",
            "[CV] kmeans__n_clusters=44 ...........................................\n",
            "[CV] ............................ kmeans__n_clusters=44, total=   9.2s\n",
            "[CV] kmeans__n_clusters=44 ...........................................\n",
            "[CV] ............................ kmeans__n_clusters=44, total=   7.4s\n",
            "[CV] kmeans__n_clusters=45 ...........................................\n",
            "[CV] ............................ kmeans__n_clusters=45, total=   6.5s\n",
            "[CV] kmeans__n_clusters=45 ...........................................\n",
            "[CV] ............................ kmeans__n_clusters=45, total=   6.9s\n",
            "[CV] kmeans__n_clusters=45 ...........................................\n",
            "[CV] ............................ kmeans__n_clusters=45, total=   6.1s\n",
            "[CV] kmeans__n_clusters=46 ...........................................\n",
            "[CV] ............................ kmeans__n_clusters=46, total=   6.1s\n",
            "[CV] kmeans__n_clusters=46 ...........................................\n",
            "[CV] ............................ kmeans__n_clusters=46, total=   6.1s\n",
            "[CV] kmeans__n_clusters=46 ...........................................\n",
            "[CV] ............................ kmeans__n_clusters=46, total=   6.2s\n",
            "[CV] kmeans__n_clusters=47 ...........................................\n",
            "[CV] ............................ kmeans__n_clusters=47, total=   6.1s\n",
            "[CV] kmeans__n_clusters=47 ...........................................\n",
            "[CV] ............................ kmeans__n_clusters=47, total=   6.6s\n",
            "[CV] kmeans__n_clusters=47 ...........................................\n",
            "[CV] ............................ kmeans__n_clusters=47, total=   6.8s\n",
            "[CV] kmeans__n_clusters=48 ...........................................\n",
            "[CV] ............................ kmeans__n_clusters=48, total=   6.6s\n",
            "[CV] kmeans__n_clusters=48 ...........................................\n",
            "[CV] ............................ kmeans__n_clusters=48, total=   8.8s\n",
            "[CV] kmeans__n_clusters=48 ...........................................\n",
            "[CV] ............................ kmeans__n_clusters=48, total=   7.7s\n",
            "[CV] kmeans__n_clusters=49 ...........................................\n",
            "[CV] ............................ kmeans__n_clusters=49, total=   8.4s\n",
            "[CV] kmeans__n_clusters=49 ...........................................\n",
            "[CV] ............................ kmeans__n_clusters=49, total=   7.5s\n",
            "[CV] kmeans__n_clusters=49 ...........................................\n",
            "[CV] ............................ kmeans__n_clusters=49, total=   8.3s\n",
            "[CV] kmeans__n_clusters=50 ...........................................\n",
            "[CV] ............................ kmeans__n_clusters=50, total=   7.6s\n",
            "[CV] kmeans__n_clusters=50 ...........................................\n",
            "[CV] ............................ kmeans__n_clusters=50, total=   7.3s\n",
            "[CV] kmeans__n_clusters=50 ...........................................\n",
            "[CV] ............................ kmeans__n_clusters=50, total=   7.5s\n",
            "[CV] kmeans__n_clusters=51 ...........................................\n",
            "[CV] ............................ kmeans__n_clusters=51, total=   6.8s\n",
            "[CV] kmeans__n_clusters=51 ...........................................\n",
            "[CV] ............................ kmeans__n_clusters=51, total=   5.4s\n",
            "[CV] kmeans__n_clusters=51 ...........................................\n",
            "[CV] ............................ kmeans__n_clusters=51, total=   6.0s\n",
            "[CV] kmeans__n_clusters=52 ...........................................\n",
            "[CV] ............................ kmeans__n_clusters=52, total=   6.6s\n",
            "[CV] kmeans__n_clusters=52 ...........................................\n",
            "[CV] ............................ kmeans__n_clusters=52, total=   6.1s\n",
            "[CV] kmeans__n_clusters=52 ...........................................\n",
            "[CV] ............................ kmeans__n_clusters=52, total=   6.6s\n",
            "[CV] kmeans__n_clusters=53 ...........................................\n",
            "[CV] ............................ kmeans__n_clusters=53, total=   6.2s\n",
            "[CV] kmeans__n_clusters=53 ...........................................\n",
            "[CV] ............................ kmeans__n_clusters=53, total=   5.9s\n",
            "[CV] kmeans__n_clusters=53 ...........................................\n",
            "[CV] ............................ kmeans__n_clusters=53, total=   6.5s\n",
            "[CV] kmeans__n_clusters=54 ...........................................\n",
            "[CV] ............................ kmeans__n_clusters=54, total=   5.6s\n",
            "[CV] kmeans__n_clusters=54 ...........................................\n",
            "[CV] ............................ kmeans__n_clusters=54, total=   5.6s\n",
            "[CV] kmeans__n_clusters=54 ...........................................\n",
            "[CV] ............................ kmeans__n_clusters=54, total=   6.3s\n",
            "[CV] kmeans__n_clusters=55 ...........................................\n",
            "[CV] ............................ kmeans__n_clusters=55, total=   6.8s\n",
            "[CV] kmeans__n_clusters=55 ...........................................\n",
            "[CV] ............................ kmeans__n_clusters=55, total=   6.6s\n",
            "[CV] kmeans__n_clusters=55 ...........................................\n",
            "[CV] ............................ kmeans__n_clusters=55, total=   6.0s\n",
            "[CV] kmeans__n_clusters=56 ...........................................\n",
            "[CV] ............................ kmeans__n_clusters=56, total=   5.7s\n",
            "[CV] kmeans__n_clusters=56 ...........................................\n",
            "[CV] ............................ kmeans__n_clusters=56, total=   6.1s\n",
            "[CV] kmeans__n_clusters=56 ...........................................\n",
            "[CV] ............................ kmeans__n_clusters=56, total=   5.3s\n",
            "[CV] kmeans__n_clusters=57 ...........................................\n",
            "[CV] ............................ kmeans__n_clusters=57, total=   5.8s\n",
            "[CV] kmeans__n_clusters=57 ...........................................\n",
            "[CV] ............................ kmeans__n_clusters=57, total=   7.6s\n",
            "[CV] kmeans__n_clusters=57 ...........................................\n",
            "[CV] ............................ kmeans__n_clusters=57, total=   6.1s\n",
            "[CV] kmeans__n_clusters=58 ...........................................\n",
            "[CV] ............................ kmeans__n_clusters=58, total=   6.0s\n",
            "[CV] kmeans__n_clusters=58 ...........................................\n",
            "[CV] ............................ kmeans__n_clusters=58, total=   6.2s\n",
            "[CV] kmeans__n_clusters=58 ...........................................\n",
            "[CV] ............................ kmeans__n_clusters=58, total=   6.1s\n",
            "[CV] kmeans__n_clusters=59 ...........................................\n",
            "[CV] ............................ kmeans__n_clusters=59, total=   6.3s\n",
            "[CV] kmeans__n_clusters=59 ...........................................\n",
            "[CV] ............................ kmeans__n_clusters=59, total=   6.8s\n",
            "[CV] kmeans__n_clusters=59 ...........................................\n",
            "[CV] ............................ kmeans__n_clusters=59, total=   6.3s\n",
            "[CV] kmeans__n_clusters=60 ...........................................\n",
            "[CV] ............................ kmeans__n_clusters=60, total=   6.0s\n",
            "[CV] kmeans__n_clusters=60 ...........................................\n",
            "[CV] ............................ kmeans__n_clusters=60, total=   6.4s\n",
            "[CV] kmeans__n_clusters=60 ...........................................\n",
            "[CV] ............................ kmeans__n_clusters=60, total=   6.1s\n",
            "[CV] kmeans__n_clusters=61 ...........................................\n",
            "[CV] ............................ kmeans__n_clusters=61, total=   6.2s\n",
            "[CV] kmeans__n_clusters=61 ...........................................\n",
            "[CV] ............................ kmeans__n_clusters=61, total=   6.9s\n",
            "[CV] kmeans__n_clusters=61 ...........................................\n",
            "[CV] ............................ kmeans__n_clusters=61, total=   5.6s\n",
            "[CV] kmeans__n_clusters=62 ...........................................\n",
            "[CV] ............................ kmeans__n_clusters=62, total=   6.8s\n",
            "[CV] kmeans__n_clusters=62 ...........................................\n",
            "[CV] ............................ kmeans__n_clusters=62, total=   6.6s\n",
            "[CV] kmeans__n_clusters=62 ...........................................\n",
            "[CV] ............................ kmeans__n_clusters=62, total=   6.4s\n",
            "[CV] kmeans__n_clusters=63 ...........................................\n",
            "[CV] ............................ kmeans__n_clusters=63, total=   7.0s\n",
            "[CV] kmeans__n_clusters=63 ...........................................\n",
            "[CV] ............................ kmeans__n_clusters=63, total=   7.1s\n",
            "[CV] kmeans__n_clusters=63 ...........................................\n",
            "[CV] ............................ kmeans__n_clusters=63, total=   6.3s\n",
            "[CV] kmeans__n_clusters=64 ...........................................\n",
            "[CV] ............................ kmeans__n_clusters=64, total=   6.7s\n",
            "[CV] kmeans__n_clusters=64 ...........................................\n",
            "[CV] ............................ kmeans__n_clusters=64, total=   6.7s\n",
            "[CV] kmeans__n_clusters=64 ...........................................\n",
            "[CV] ............................ kmeans__n_clusters=64, total=   6.8s\n",
            "[CV] kmeans__n_clusters=65 ...........................................\n",
            "[CV] ............................ kmeans__n_clusters=65, total=   7.0s\n",
            "[CV] kmeans__n_clusters=65 ...........................................\n",
            "[CV] ............................ kmeans__n_clusters=65, total=   6.9s\n",
            "[CV] kmeans__n_clusters=65 ...........................................\n",
            "[CV] ............................ kmeans__n_clusters=65, total=   6.0s\n",
            "[CV] kmeans__n_clusters=66 ...........................................\n",
            "[CV] ............................ kmeans__n_clusters=66, total=   6.5s\n",
            "[CV] kmeans__n_clusters=66 ...........................................\n",
            "[CV] ............................ kmeans__n_clusters=66, total=   7.4s\n",
            "[CV] kmeans__n_clusters=66 ...........................................\n",
            "[CV] ............................ kmeans__n_clusters=66, total=   6.1s\n",
            "[CV] kmeans__n_clusters=67 ...........................................\n",
            "[CV] ............................ kmeans__n_clusters=67, total=   6.9s\n",
            "[CV] kmeans__n_clusters=67 ...........................................\n",
            "[CV] ............................ kmeans__n_clusters=67, total=   6.2s\n",
            "[CV] kmeans__n_clusters=67 ...........................................\n",
            "[CV] ............................ kmeans__n_clusters=67, total=   6.6s\n",
            "[CV] kmeans__n_clusters=68 ...........................................\n",
            "[CV] ............................ kmeans__n_clusters=68, total=   6.4s\n",
            "[CV] kmeans__n_clusters=68 ...........................................\n",
            "[CV] ............................ kmeans__n_clusters=68, total=   7.4s\n",
            "[CV] kmeans__n_clusters=68 ...........................................\n",
            "[CV] ............................ kmeans__n_clusters=68, total=   7.5s\n",
            "[CV] kmeans__n_clusters=69 ...........................................\n",
            "[CV] ............................ kmeans__n_clusters=69, total=   6.6s\n",
            "[CV] kmeans__n_clusters=69 ...........................................\n",
            "[CV] ............................ kmeans__n_clusters=69, total=   6.5s\n",
            "[CV] kmeans__n_clusters=69 ...........................................\n",
            "[CV] ............................ kmeans__n_clusters=69, total=   7.0s\n",
            "[CV] kmeans__n_clusters=70 ...........................................\n",
            "[CV] ............................ kmeans__n_clusters=70, total=   6.4s\n",
            "[CV] kmeans__n_clusters=70 ...........................................\n",
            "[CV] ............................ kmeans__n_clusters=70, total=   6.5s\n",
            "[CV] kmeans__n_clusters=70 ...........................................\n",
            "[CV] ............................ kmeans__n_clusters=70, total=   6.9s\n",
            "[CV] kmeans__n_clusters=71 ...........................................\n",
            "[CV] ............................ kmeans__n_clusters=71, total=   6.5s\n",
            "[CV] kmeans__n_clusters=71 ...........................................\n",
            "[CV] ............................ kmeans__n_clusters=71, total=   7.0s\n",
            "[CV] kmeans__n_clusters=71 ...........................................\n",
            "[CV] ............................ kmeans__n_clusters=71, total=   6.9s\n",
            "[CV] kmeans__n_clusters=72 ...........................................\n",
            "[CV] ............................ kmeans__n_clusters=72, total=   5.8s\n",
            "[CV] kmeans__n_clusters=72 ...........................................\n",
            "[CV] ............................ kmeans__n_clusters=72, total=   6.4s\n",
            "[CV] kmeans__n_clusters=72 ...........................................\n",
            "[CV] ............................ kmeans__n_clusters=72, total=   6.6s\n",
            "[CV] kmeans__n_clusters=73 ...........................................\n",
            "[CV] ............................ kmeans__n_clusters=73, total=   6.4s\n",
            "[CV] kmeans__n_clusters=73 ...........................................\n",
            "[CV] ............................ kmeans__n_clusters=73, total=   8.0s\n",
            "[CV] kmeans__n_clusters=73 ...........................................\n",
            "[CV] ............................ kmeans__n_clusters=73, total=   6.5s\n",
            "[CV] kmeans__n_clusters=74 ...........................................\n",
            "[CV] ............................ kmeans__n_clusters=74, total=   6.2s\n",
            "[CV] kmeans__n_clusters=74 ...........................................\n",
            "[CV] ............................ kmeans__n_clusters=74, total=   7.8s\n",
            "[CV] kmeans__n_clusters=74 ...........................................\n",
            "[CV] ............................ kmeans__n_clusters=74, total=   7.1s\n",
            "[CV] kmeans__n_clusters=75 ...........................................\n",
            "[CV] ............................ kmeans__n_clusters=75, total=   7.1s\n",
            "[CV] kmeans__n_clusters=75 ...........................................\n",
            "[CV] ............................ kmeans__n_clusters=75, total=   6.6s\n",
            "[CV] kmeans__n_clusters=75 ...........................................\n",
            "[CV] ............................ kmeans__n_clusters=75, total=   6.9s\n",
            "[CV] kmeans__n_clusters=76 ...........................................\n",
            "[CV] ............................ kmeans__n_clusters=76, total=   6.5s\n",
            "[CV] kmeans__n_clusters=76 ...........................................\n",
            "[CV] ............................ kmeans__n_clusters=76, total=   7.0s\n",
            "[CV] kmeans__n_clusters=76 ...........................................\n",
            "[CV] ............................ kmeans__n_clusters=76, total=   7.0s\n",
            "[CV] kmeans__n_clusters=77 ...........................................\n",
            "[CV] ............................ kmeans__n_clusters=77, total=   6.2s\n",
            "[CV] kmeans__n_clusters=77 ...........................................\n",
            "[CV] ............................ kmeans__n_clusters=77, total=   7.0s\n",
            "[CV] kmeans__n_clusters=77 ...........................................\n",
            "[CV] ............................ kmeans__n_clusters=77, total=   7.3s\n",
            "[CV] kmeans__n_clusters=78 ...........................................\n",
            "[CV] ............................ kmeans__n_clusters=78, total=   6.5s\n",
            "[CV] kmeans__n_clusters=78 ...........................................\n",
            "[CV] ............................ kmeans__n_clusters=78, total=   6.3s\n",
            "[CV] kmeans__n_clusters=78 ...........................................\n",
            "[CV] ............................ kmeans__n_clusters=78, total=   6.2s\n",
            "[CV] kmeans__n_clusters=79 ...........................................\n",
            "[CV] ............................ kmeans__n_clusters=79, total=   6.5s\n",
            "[CV] kmeans__n_clusters=79 ...........................................\n",
            "[CV] ............................ kmeans__n_clusters=79, total=   7.7s\n",
            "[CV] kmeans__n_clusters=79 ...........................................\n",
            "[CV] ............................ kmeans__n_clusters=79, total=   8.1s\n",
            "[CV] kmeans__n_clusters=80 ...........................................\n",
            "[CV] ............................ kmeans__n_clusters=80, total=   6.0s\n",
            "[CV] kmeans__n_clusters=80 ...........................................\n",
            "[CV] ............................ kmeans__n_clusters=80, total=   7.9s\n",
            "[CV] kmeans__n_clusters=80 ...........................................\n",
            "[CV] ............................ kmeans__n_clusters=80, total=   6.3s\n",
            "[CV] kmeans__n_clusters=81 ...........................................\n",
            "[CV] ............................ kmeans__n_clusters=81, total=   6.4s\n",
            "[CV] kmeans__n_clusters=81 ...........................................\n",
            "[CV] ............................ kmeans__n_clusters=81, total=   7.4s\n",
            "[CV] kmeans__n_clusters=81 ...........................................\n",
            "[CV] ............................ kmeans__n_clusters=81, total=   6.5s\n",
            "[CV] kmeans__n_clusters=82 ...........................................\n",
            "[CV] ............................ kmeans__n_clusters=82, total=   6.1s\n",
            "[CV] kmeans__n_clusters=82 ...........................................\n",
            "[CV] ............................ kmeans__n_clusters=82, total=   7.0s\n",
            "[CV] kmeans__n_clusters=82 ...........................................\n",
            "[CV] ............................ kmeans__n_clusters=82, total=   6.6s\n",
            "[CV] kmeans__n_clusters=83 ...........................................\n",
            "[CV] ............................ kmeans__n_clusters=83, total=   7.1s\n",
            "[CV] kmeans__n_clusters=83 ...........................................\n",
            "[CV] ............................ kmeans__n_clusters=83, total=   6.7s\n",
            "[CV] kmeans__n_clusters=83 ...........................................\n",
            "[CV] ............................ kmeans__n_clusters=83, total=   6.9s\n",
            "[CV] kmeans__n_clusters=84 ...........................................\n",
            "[CV] ............................ kmeans__n_clusters=84, total=   6.8s\n",
            "[CV] kmeans__n_clusters=84 ...........................................\n",
            "[CV] ............................ kmeans__n_clusters=84, total=   7.2s\n",
            "[CV] kmeans__n_clusters=84 ...........................................\n",
            "[CV] ............................ kmeans__n_clusters=84, total=   6.6s\n",
            "[CV] kmeans__n_clusters=85 ...........................................\n",
            "[CV] ............................ kmeans__n_clusters=85, total=   6.8s\n",
            "[CV] kmeans__n_clusters=85 ...........................................\n",
            "[CV] ............................ kmeans__n_clusters=85, total=   7.9s\n",
            "[CV] kmeans__n_clusters=85 ...........................................\n",
            "[CV] ............................ kmeans__n_clusters=85, total=   6.7s\n",
            "[CV] kmeans__n_clusters=86 ...........................................\n",
            "[CV] ............................ kmeans__n_clusters=86, total=   6.4s\n",
            "[CV] kmeans__n_clusters=86 ...........................................\n",
            "[CV] ............................ kmeans__n_clusters=86, total=   7.5s\n",
            "[CV] kmeans__n_clusters=86 ...........................................\n",
            "[CV] ............................ kmeans__n_clusters=86, total=   7.2s\n",
            "[CV] kmeans__n_clusters=87 ...........................................\n",
            "[CV] ............................ kmeans__n_clusters=87, total=   6.0s\n",
            "[CV] kmeans__n_clusters=87 ...........................................\n",
            "[CV] ............................ kmeans__n_clusters=87, total=   7.2s\n",
            "[CV] kmeans__n_clusters=87 ...........................................\n",
            "[CV] ............................ kmeans__n_clusters=87, total=   6.9s\n",
            "[CV] kmeans__n_clusters=88 ...........................................\n",
            "[CV] ............................ kmeans__n_clusters=88, total=   6.6s\n",
            "[CV] kmeans__n_clusters=88 ...........................................\n",
            "[CV] ............................ kmeans__n_clusters=88, total=   7.8s\n",
            "[CV] kmeans__n_clusters=88 ...........................................\n",
            "[CV] ............................ kmeans__n_clusters=88, total=   6.7s\n",
            "[CV] kmeans__n_clusters=89 ...........................................\n",
            "[CV] ............................ kmeans__n_clusters=89, total=   7.2s\n",
            "[CV] kmeans__n_clusters=89 ...........................................\n",
            "[CV] ............................ kmeans__n_clusters=89, total=   7.1s\n",
            "[CV] kmeans__n_clusters=89 ...........................................\n",
            "[CV] ............................ kmeans__n_clusters=89, total=   6.8s\n",
            "[CV] kmeans__n_clusters=90 ...........................................\n",
            "[CV] ............................ kmeans__n_clusters=90, total=   6.6s\n",
            "[CV] kmeans__n_clusters=90 ...........................................\n",
            "[CV] ............................ kmeans__n_clusters=90, total=   7.2s\n",
            "[CV] kmeans__n_clusters=90 ...........................................\n",
            "[CV] ............................ kmeans__n_clusters=90, total=   6.7s\n",
            "[CV] kmeans__n_clusters=91 ...........................................\n",
            "[CV] ............................ kmeans__n_clusters=91, total=   6.5s\n",
            "[CV] kmeans__n_clusters=91 ...........................................\n",
            "[CV] ............................ kmeans__n_clusters=91, total=   6.5s\n",
            "[CV] kmeans__n_clusters=91 ...........................................\n",
            "[CV] ............................ kmeans__n_clusters=91, total=   6.8s\n",
            "[CV] kmeans__n_clusters=92 ...........................................\n",
            "[CV] ............................ kmeans__n_clusters=92, total=   6.3s\n",
            "[CV] kmeans__n_clusters=92 ...........................................\n",
            "[CV] ............................ kmeans__n_clusters=92, total=   7.0s\n",
            "[CV] kmeans__n_clusters=92 ...........................................\n",
            "[CV] ............................ kmeans__n_clusters=92, total=   6.9s\n",
            "[CV] kmeans__n_clusters=93 ...........................................\n",
            "[CV] ............................ kmeans__n_clusters=93, total=   6.4s\n",
            "[CV] kmeans__n_clusters=93 ...........................................\n",
            "[CV] ............................ kmeans__n_clusters=93, total=   7.5s\n",
            "[CV] kmeans__n_clusters=93 ...........................................\n",
            "[CV] ............................ kmeans__n_clusters=93, total=   7.0s\n",
            "[CV] kmeans__n_clusters=94 ...........................................\n",
            "[CV] ............................ kmeans__n_clusters=94, total=   7.0s\n",
            "[CV] kmeans__n_clusters=94 ...........................................\n",
            "[CV] ............................ kmeans__n_clusters=94, total=   6.5s\n",
            "[CV] kmeans__n_clusters=94 ...........................................\n",
            "[CV] ............................ kmeans__n_clusters=94, total=   6.2s\n",
            "[CV] kmeans__n_clusters=95 ...........................................\n",
            "[CV] ............................ kmeans__n_clusters=95, total=   7.4s\n",
            "[CV] kmeans__n_clusters=95 ...........................................\n",
            "[CV] ............................ kmeans__n_clusters=95, total=   6.9s\n",
            "[CV] kmeans__n_clusters=95 ...........................................\n",
            "[CV] ............................ kmeans__n_clusters=95, total=   6.5s\n",
            "[CV] kmeans__n_clusters=96 ...........................................\n",
            "[CV] ............................ kmeans__n_clusters=96, total=   6.6s\n",
            "[CV] kmeans__n_clusters=96 ...........................................\n",
            "[CV] ............................ kmeans__n_clusters=96, total=   6.8s\n",
            "[CV] kmeans__n_clusters=96 ...........................................\n",
            "[CV] ............................ kmeans__n_clusters=96, total=   6.5s\n",
            "[CV] kmeans__n_clusters=97 ...........................................\n",
            "[CV] ............................ kmeans__n_clusters=97, total=   7.5s\n",
            "[CV] kmeans__n_clusters=97 ...........................................\n",
            "[CV] ............................ kmeans__n_clusters=97, total=   7.0s\n",
            "[CV] kmeans__n_clusters=97 ...........................................\n",
            "[CV] ............................ kmeans__n_clusters=97, total=   6.8s\n",
            "[CV] kmeans__n_clusters=98 ...........................................\n",
            "[CV] ............................ kmeans__n_clusters=98, total=   6.6s\n",
            "[CV] kmeans__n_clusters=98 ...........................................\n",
            "[CV] ............................ kmeans__n_clusters=98, total=   7.5s\n",
            "[CV] kmeans__n_clusters=98 ...........................................\n",
            "[CV] ............................ kmeans__n_clusters=98, total=   7.6s\n",
            "[CV] kmeans__n_clusters=99 ...........................................\n",
            "[CV] ............................ kmeans__n_clusters=99, total=   7.3s\n",
            "[CV] kmeans__n_clusters=99 ...........................................\n",
            "[CV] ............................ kmeans__n_clusters=99, total=   6.9s\n",
            "[CV] kmeans__n_clusters=99 ...........................................\n",
            "[CV] ............................ kmeans__n_clusters=99, total=   7.0s\n"
          ],
          "name": "stdout"
        },
        {
          "output_type": "stream",
          "text": [
            "[Parallel(n_jobs=1)]: Done 294 out of 294 | elapsed: 25.7min finished\n"
          ],
          "name": "stderr"
        },
        {
          "output_type": "execute_result",
          "data": {
            "text/plain": [
              "GridSearchCV(cv=3, error_score=nan,\n",
              "             estimator=Pipeline(memory=None,\n",
              "                                steps=[('kmeans',\n",
              "                                        KMeans(algorithm='auto', copy_x=True,\n",
              "                                               init='k-means++', max_iter=300,\n",
              "                                               n_clusters=50, n_init=10,\n",
              "                                               n_jobs=None,\n",
              "                                               precompute_distances='auto',\n",
              "                                               random_state=42, tol=0.0001,\n",
              "                                               verbose=0)),\n",
              "                                       ('log_reg',\n",
              "                                        LogisticRegression(C=1.0,\n",
              "                                                           class_weight=None,\n",
              "                                                           dual=False,\n",
              "                                                           fit_intercept=True,\n",
              "                                                           intercept_scaling=1,\n",
              "                                                           l1_ratio=None,\n",
              "                                                           max_iter=5000,\n",
              "                                                           multi_class='ovr',\n",
              "                                                           n_jobs=None,\n",
              "                                                           penalty='l2',\n",
              "                                                           random_state=42,\n",
              "                                                           solver='lbfgs',\n",
              "                                                           tol=0.0001,\n",
              "                                                           verbose=0,\n",
              "                                                           warm_start=False))],\n",
              "                                verbose=False),\n",
              "             iid='deprecated', n_jobs=None,\n",
              "             param_grid={'kmeans__n_clusters': range(2, 100)},\n",
              "             pre_dispatch='2*n_jobs', refit=True, return_train_score=False,\n",
              "             scoring=None, verbose=2)"
            ]
          },
          "metadata": {
            "tags": []
          },
          "execution_count": 17
        }
      ]
    },
    {
      "cell_type": "markdown",
      "metadata": {
        "id": "NxYkiQJ83WdF"
      },
      "source": [
        "Let's see what the best number of clusters is:\n",
        "\n"
      ]
    },
    {
      "cell_type": "code",
      "metadata": {
        "id": "H6lDZ8wH3XB7",
        "colab": {
          "base_uri": "https://localhost:8080/"
        },
        "outputId": "926dd228-0af3-442a-c5e9-f1b4e8f53012"
      },
      "source": [
        "grid_clf.best_params_"
      ],
      "execution_count": null,
      "outputs": [
        {
          "output_type": "execute_result",
          "data": {
            "text/plain": [
              "{'kmeans__n_clusters': 57}"
            ]
          },
          "metadata": {
            "tags": []
          },
          "execution_count": 18
        }
      ]
    },
    {
      "cell_type": "code",
      "metadata": {
        "id": "wvlvxnnz3aoz",
        "colab": {
          "base_uri": "https://localhost:8080/"
        },
        "outputId": "5cb548f2-1614-4e37-f699-e05bc2934b40"
      },
      "source": [
        "grid_clf.score(X_test, y_test)\n"
      ],
      "execution_count": null,
      "outputs": [
        {
          "output_type": "execute_result",
          "data": {
            "text/plain": [
              "0.98"
            ]
          },
          "metadata": {
            "tags": []
          },
          "execution_count": 19
        }
      ]
    },
    {
      "cell_type": "markdown",
      "metadata": {
        "id": "_MG5lz4c4odL"
      },
      "source": [
        "## **Building an Image Classifier with Tf and keras using fashion MNIST dataset**"
      ]
    },
    {
      "cell_type": "code",
      "metadata": {
        "id": "UbW8r0iAzc0W"
      },
      "source": [
        "import tensorflow as tf\n",
        "from tensorflow import keras"
      ],
      "execution_count": null,
      "outputs": []
    },
    {
      "cell_type": "markdown",
      "metadata": {
        "id": "gygew19I82P8"
      },
      "source": [
        ""
      ]
    },
    {
      "cell_type": "markdown",
      "metadata": {
        "id": "_c3Hixlfzjs8"
      },
      "source": [
        "Let's start by loading the fashion MNIST dataset. Keras has a number of functions to load popular datasets in keras.datasets. The dataset is already split for you between a training set and a test set, but it can be useful to split the training set further to have a validation set:"
      ]
    },
    {
      "cell_type": "code",
      "metadata": {
        "colab": {
          "base_uri": "https://localhost:8080/"
        },
        "id": "OMwkKqBPziWT",
        "outputId": "5835f025-0185-45bd-9216-94ca0bb821f2"
      },
      "source": [
        "fashion_mnist = keras.datasets.fashion_mnist\n",
        "(X_train_full, y_train_full), (X_test, y_test) = fashion_mnist.load_data()"
      ],
      "execution_count": null,
      "outputs": [
        {
          "output_type": "stream",
          "text": [
            "Downloading data from https://storage.googleapis.com/tensorflow/tf-keras-datasets/train-labels-idx1-ubyte.gz\n",
            "32768/29515 [=================================] - 0s 0us/step\n",
            "Downloading data from https://storage.googleapis.com/tensorflow/tf-keras-datasets/train-images-idx3-ubyte.gz\n",
            "26427392/26421880 [==============================] - 0s 0us/step\n",
            "Downloading data from https://storage.googleapis.com/tensorflow/tf-keras-datasets/t10k-labels-idx1-ubyte.gz\n",
            "8192/5148 [===============================================] - 0s 0us/step\n",
            "Downloading data from https://storage.googleapis.com/tensorflow/tf-keras-datasets/t10k-images-idx3-ubyte.gz\n",
            "4423680/4422102 [==============================] - 0s 0us/step\n"
          ],
          "name": "stdout"
        }
      ]
    },
    {
      "cell_type": "markdown",
      "metadata": {
        "id": "2jqxL4nOzsGU"
      },
      "source": [
        "\n",
        "The training set contains 60,000 grayscale images, each 28x28 pixels:"
      ]
    },
    {
      "cell_type": "code",
      "metadata": {
        "colab": {
          "base_uri": "https://localhost:8080/"
        },
        "id": "OvahTyIWzs9W",
        "outputId": "881b1d5a-d2c2-4a3c-ce06-9e7a7e5c9f6b"
      },
      "source": [
        "X_train_full.shape"
      ],
      "execution_count": null,
      "outputs": [
        {
          "output_type": "execute_result",
          "data": {
            "text/plain": [
              "(60000, 28, 28)"
            ]
          },
          "metadata": {
            "tags": []
          },
          "execution_count": 6
        }
      ]
    },
    {
      "cell_type": "markdown",
      "metadata": {
        "id": "dH5KB2OVzwr7"
      },
      "source": [
        "\n",
        "Each pixel intensity is represented as a byte (0 to 255):"
      ]
    },
    {
      "cell_type": "code",
      "metadata": {
        "colab": {
          "base_uri": "https://localhost:8080/"
        },
        "id": "zUGOtjbazvmk",
        "outputId": "ec92fc92-85df-414d-bf8a-0ee19309b297"
      },
      "source": [
        "X_train_full.dtype"
      ],
      "execution_count": null,
      "outputs": [
        {
          "output_type": "execute_result",
          "data": {
            "text/plain": [
              "dtype('uint8')"
            ]
          },
          "metadata": {
            "tags": []
          },
          "execution_count": 7
        }
      ]
    },
    {
      "cell_type": "markdown",
      "metadata": {
        "id": "pAa9ABuWz4wD"
      },
      "source": [
        "\n",
        "Let's split the full training set into a validation set and a (smaller) training set. We also scale the pixel intensities down to the 0-1 range and convert them to floats, by dividing by 255."
      ]
    },
    {
      "cell_type": "code",
      "metadata": {
        "id": "CHUwrXc5z2_7"
      },
      "source": [
        "X_valid, X_train = X_train_full[:5000] / 255., X_train_full[5000:] / 255.\n",
        "y_valid, y_train = y_train_full[:5000], y_train_full[5000:]\n",
        "X_test = X_test / 255."
      ],
      "execution_count": null,
      "outputs": []
    },
    {
      "cell_type": "markdown",
      "metadata": {
        "id": "uordFdrmz9Mr"
      },
      "source": [
        "You can plot an image using Matplotlib's imshow() function, with a 'binary' color map:\n",
        "\n"
      ]
    },
    {
      "cell_type": "code",
      "metadata": {
        "colab": {
          "base_uri": "https://localhost:8080/",
          "height": 248
        },
        "id": "8SGz22mgz98o",
        "outputId": "a91c67cd-4d93-4cf5-8c3e-20a3120c8ac8"
      },
      "source": [
        "%matplotlib inline\n",
        "import matplotlib as mpl\n",
        "import matplotlib.pyplot as plt\n",
        "plt.imshow(X_train[0], cmap=\"binary\")\n",
        "plt.axis('off')\n",
        "plt.show()"
      ],
      "execution_count": null,
      "outputs": [
        {
          "output_type": "display_data",
          "data": {
            "image/png": "[encoded data removed]",
            "text/plain": [
              "<Figure size 432x288 with 1 Axes>"
            ]
          },
          "metadata": {
            "tags": [],
            "needs_background": "light"
          }
        }
      ]
    },
    {
      "cell_type": "code",
      "metadata": {
        "colab": {
          "base_uri": "https://localhost:8080/"
        },
        "id": "9ntCiZJd1cGQ",
        "outputId": "ba8b07d8-ee6a-419f-afe3-0229b78ddc68"
      },
      "source": [
        "y_train"
      ],
      "execution_count": null,
      "outputs": [
        {
          "output_type": "execute_result",
          "data": {
            "text/plain": [
              "array([4, 0, 7, ..., 3, 0, 5], dtype=uint8)"
            ]
          },
          "metadata": {
            "tags": []
          },
          "execution_count": 12
        }
      ]
    },
    {
      "cell_type": "markdown",
      "metadata": {
        "id": "5lj8epzc2Ovd"
      },
      "source": [
        "\n",
        "Here are the corresponding class names:"
      ]
    },
    {
      "cell_type": "code",
      "metadata": {
        "id": "JETNm7HU2Pdg"
      },
      "source": [
        "class_names = [\"T-shirt/top\", \"Trouser\", \"Pullover\", \"Dress\", \"Coat\",\n",
        "               \"Sandal\", \"Shirt\", \"Sneaker\", \"Bag\", \"Ankle boot\"]"
      ],
      "execution_count": null,
      "outputs": []
    },
    {
      "cell_type": "markdown",
      "metadata": {
        "id": "0pp9faEu2W6j"
      },
      "source": [
        "So the first image in the training set is a coat:"
      ]
    },
    {
      "cell_type": "code",
      "metadata": {
        "colab": {
          "base_uri": "https://localhost:8080/",
          "height": 35
        },
        "id": "r_auxyFv2aEr",
        "outputId": "3c768181-6aaa-49d7-91b7-5b8cc5578089"
      },
      "source": [
        "\n",
        "class_names[y_train[0]]"
      ],
      "execution_count": null,
      "outputs": [
        {
          "output_type": "execute_result",
          "data": {
            "application/vnd.google.colaboratory.intrinsic+json": {
              "type": "string"
            },
            "text/plain": [
              "'Coat'"
            ]
          },
          "metadata": {
            "tags": []
          },
          "execution_count": 16
        }
      ]
    },
    {
      "cell_type": "markdown",
      "metadata": {
        "id": "xlcxOONJ2cKL"
      },
      "source": [
        "The validation set contains 5,000 images, and the test set contains 10,000 images:\n",
        "\n"
      ]
    },
    {
      "cell_type": "code",
      "metadata": {
        "colab": {
          "base_uri": "https://localhost:8080/"
        },
        "id": "ow9-thzP2c2I",
        "outputId": "2d209539-149e-4807-fdef-53f455ec4a98"
      },
      "source": [
        "X_valid.shape"
      ],
      "execution_count": null,
      "outputs": [
        {
          "output_type": "execute_result",
          "data": {
            "text/plain": [
              "(5000, 28, 28)"
            ]
          },
          "metadata": {
            "tags": []
          },
          "execution_count": 17
        }
      ]
    },
    {
      "cell_type": "code",
      "metadata": {
        "colab": {
          "base_uri": "https://localhost:8080/"
        },
        "id": "KQie1iyZ2gLb",
        "outputId": "1294594a-b504-44e0-f391-cac049210ee0"
      },
      "source": [
        "X_test.shape"
      ],
      "execution_count": null,
      "outputs": [
        {
          "output_type": "execute_result",
          "data": {
            "text/plain": [
              "(10000, 28, 28)"
            ]
          },
          "metadata": {
            "tags": []
          },
          "execution_count": 18
        }
      ]
    },
    {
      "cell_type": "markdown",
      "metadata": {
        "id": "Qxjh7UBg26q0"
      },
      "source": [
        "\n",
        "Let's take a look at a sample of the images in the dataset:"
      ]
    },
    {
      "cell_type": "code",
      "metadata": {
        "colab": {
          "base_uri": "https://localhost:8080/",
          "height": 308
        },
        "id": "apsjz6JA27Rw",
        "outputId": "7a7f136f-a6ef-485e-f18d-2d2a18852812"
      },
      "source": [
        "n_rows = 4\n",
        "n_cols = 10\n",
        "plt.figure(figsize=(n_cols * 1.2, n_rows * 1.2))\n",
        "for row in range(n_rows):\n",
        "    for col in range(n_cols):\n",
        "        index = n_cols * row + col\n",
        "        plt.subplot(n_rows, n_cols, index + 1)\n",
        "        plt.imshow(X_train[index], cmap=\"binary\", interpolation=\"nearest\")\n",
        "        plt.axis('off')\n",
        "        plt.title(class_names[y_train[index]], fontsize=12)\n",
        "plt.subplots_adjust(wspace=0.2, hspace=0.5)\n",
        "# save_fig('fashion_mnist_plot', tight_layout=False)\n",
        "plt.show()"
      ],
      "execution_count": null,
      "outputs": [
        {
          "output_type": "display_data",
          "data": {
            "image/png": "[encoded data removed]",
            "text/plain": [
              "<Figure size 864x345.6 with 40 Axes>"
            ]
          },
          "metadata": {
            "tags": [],
            "needs_background": "light"
          }
        }
      ]
    },
    {
      "cell_type": "code",
      "metadata": {
        "id": "Gz4a9sGz3B5x"
      },
      "source": [
        "model = keras.models.Sequential()\n",
        "model.add(keras.layers.Flatten(input_shape=[28, 28]))\n",
        "model.add(keras.layers.Dense(300, activation=\"relu\"))\n",
        "model.add(keras.layers.Dense(100, activation=\"relu\"))\n",
        "model.add(keras.layers.Dense(10, activation=\"softmax\"))"
      ],
      "execution_count": null,
      "outputs": []
    },
    {
      "cell_type": "code",
      "metadata": {
        "id": "ObjLbmbP3VN_"
      },
      "source": [
        "import numpy as np\n",
        "keras.backend.clear_session()\n",
        "np.random.seed(42)\n",
        "tf.random.set_seed(42)"
      ],
      "execution_count": null,
      "outputs": []
    },
    {
      "cell_type": "code",
      "metadata": {
        "id": "LbHj_kx73ajg"
      },
      "source": [
        "model = keras.models.Sequential([\n",
        "    keras.layers.Flatten(input_shape=[28, 28]),\n",
        "    keras.layers.Dense(300, activation=\"relu\"),\n",
        "    keras.layers.Dense(100, activation=\"relu\"),\n",
        "    keras.layers.Dense(10, activation=\"softmax\")\n",
        "])"
      ],
      "execution_count": null,
      "outputs": []
    },
    {
      "cell_type": "code",
      "metadata": {
        "colab": {
          "base_uri": "https://localhost:8080/"
        },
        "id": "1XnWcGZS3bNz",
        "outputId": "e25f1b34-1536-4a8c-ffbb-4b6c9741d8fd"
      },
      "source": [
        "model.layers"
      ],
      "execution_count": null,
      "outputs": [
        {
          "output_type": "execute_result",
          "data": {
            "text/plain": [
              "[<tensorflow.python.keras.layers.core.Flatten at 0x7fcd7abc0c18>,\n",
              " <tensorflow.python.keras.layers.core.Dense at 0x7fcd7abc0710>,\n",
              " <tensorflow.python.keras.layers.core.Dense at 0x7fcd7abc0668>,\n",
              " <tensorflow.python.keras.layers.core.Dense at 0x7fcd7abc0828>]"
            ]
          },
          "metadata": {
            "tags": []
          },
          "execution_count": 25
        }
      ]
    },
    {
      "cell_type": "code",
      "metadata": {
        "colab": {
          "base_uri": "https://localhost:8080/"
        },
        "id": "KK_hBvcs3gAc",
        "outputId": "aec7f5ee-d22e-4922-eb25-d5b639d24ee6"
      },
      "source": [
        "model.summary()"
      ],
      "execution_count": null,
      "outputs": [
        {
          "output_type": "stream",
          "text": [
            "Model: \"sequential\"\n",
            "_________________________________________________________________\n",
            "Layer (type)                 Output Shape              Param #   \n",
            "=================================================================\n",
            "flatten (Flatten)            (None, 784)               0         \n",
            "_________________________________________________________________\n",
            "dense (Dense)                (None, 300)               235500    \n",
            "_________________________________________________________________\n",
            "dense_1 (Dense)              (None, 100)               30100     \n",
            "_________________________________________________________________\n",
            "dense_2 (Dense)              (None, 10)                1010      \n",
            "=================================================================\n",
            "Total params: 266,610\n",
            "Trainable params: 266,610\n",
            "Non-trainable params: 0\n",
            "_________________________________________________________________\n"
          ],
          "name": "stdout"
        }
      ]
    },
    {
      "cell_type": "code",
      "metadata": {
        "colab": {
          "base_uri": "https://localhost:8080/",
          "height": 533
        },
        "id": "A8kNm0J53id8",
        "outputId": "4247cc10-a0cc-4d47-e83c-991e71b4027d"
      },
      "source": [
        "keras.utils.plot_model(model, \"my_fashion_mnist_model.png\", show_shapes=True)"
      ],
      "execution_count": null,
      "outputs": [
        {
          "output_type": "execute_result",
          "data": {
            "image/png": "[encoded data removed]",
            "text/plain": [
              "<IPython.core.display.Image object>"
            ]
          },
          "metadata": {
            "tags": []
          },
          "execution_count": 27
        }
      ]
    },
    {
      "cell_type": "code",
      "metadata": {
        "colab": {
          "base_uri": "https://localhost:8080/",
          "height": 35
        },
        "id": "ZZqBFNOM3lF7",
        "outputId": "d56893f6-26f8-4fcf-dc0d-e26c1658c2b4"
      },
      "source": [
        "hidden1 = model.layers[1]\n",
        "hidden1.name"
      ],
      "execution_count": null,
      "outputs": [
        {
          "output_type": "execute_result",
          "data": {
            "application/vnd.google.colaboratory.intrinsic+json": {
              "type": "string"
            },
            "text/plain": [
              "'dense'"
            ]
          },
          "metadata": {
            "tags": []
          },
          "execution_count": 28
        }
      ]
    },
    {
      "cell_type": "code",
      "metadata": {
        "colab": {
          "base_uri": "https://localhost:8080/"
        },
        "id": "lLvgifYg3m3c",
        "outputId": "3d7fc6f2-6d76-4b41-8559-49da84de8794"
      },
      "source": [
        "model.get_layer(hidden1.name) is hidden1"
      ],
      "execution_count": null,
      "outputs": [
        {
          "output_type": "execute_result",
          "data": {
            "text/plain": [
              "True"
            ]
          },
          "metadata": {
            "tags": []
          },
          "execution_count": 29
        }
      ]
    },
    {
      "cell_type": "code",
      "metadata": {
        "colab": {
          "base_uri": "https://localhost:8080/"
        },
        "id": "lQvBC-nv3pI0",
        "outputId": "2df24ba1-d71b-4428-9567-cc300e3ea3ff"
      },
      "source": [
        "weights, biases = hidden1.get_weights()\n",
        "weights"
      ],
      "execution_count": null,
      "outputs": [
        {
          "output_type": "execute_result",
          "data": {
            "text/plain": [
              "array([[ 0.02448617, -0.00877795, -0.02189048, ..., -0.02766046,\n",
              "         0.03859074, -0.06889391],\n",
              "       [ 0.00476504, -0.03105379, -0.0586676 , ...,  0.00602964,\n",
              "        -0.02763776, -0.04165364],\n",
              "       [-0.06189284, -0.06901957,  0.07102345, ..., -0.04238207,\n",
              "         0.07121518, -0.07331658],\n",
              "       ...,\n",
              "       [-0.03048757,  0.02155137, -0.05400612, ..., -0.00113463,\n",
              "         0.00228987,  0.05581069],\n",
              "       [ 0.07061854, -0.06960931,  0.07038955, ..., -0.00384101,\n",
              "         0.00034875,  0.02878492],\n",
              "       [-0.06022581,  0.01577859, -0.02585464, ..., -0.00527829,\n",
              "         0.00272203, -0.06793761]], dtype=float32)"
            ]
          },
          "metadata": {
            "tags": []
          },
          "execution_count": 30
        }
      ]
    },
    {
      "cell_type": "code",
      "metadata": {
        "colab": {
          "base_uri": "https://localhost:8080/"
        },
        "id": "vv-yG6v93svc",
        "outputId": "5a199585-679a-48d5-e0fd-43e3fd56f5ef"
      },
      "source": [
        "weights.shape"
      ],
      "execution_count": null,
      "outputs": [
        {
          "output_type": "execute_result",
          "data": {
            "text/plain": [
              "(784, 300)"
            ]
          },
          "metadata": {
            "tags": []
          },
          "execution_count": 31
        }
      ]
    },
    {
      "cell_type": "code",
      "metadata": {
        "colab": {
          "base_uri": "https://localhost:8080/"
        },
        "id": "81p1RGqW3vNk",
        "outputId": "4ebd64eb-fb68-4d63-cbd3-f9d4040b4618"
      },
      "source": [
        "biases"
      ],
      "execution_count": null,
      "outputs": [
        {
          "output_type": "execute_result",
          "data": {
            "text/plain": [
              "array([0., 0., 0., 0., 0., 0., 0., 0., 0., 0., 0., 0., 0., 0., 0., 0., 0.,\n",
              "       0., 0., 0., 0., 0., 0., 0., 0., 0., 0., 0., 0., 0., 0., 0., 0., 0.,\n",
              "       0., 0., 0., 0., 0., 0., 0., 0., 0., 0., 0., 0., 0., 0., 0., 0., 0.,\n",
              "       0., 0., 0., 0., 0., 0., 0., 0., 0., 0., 0., 0., 0., 0., 0., 0., 0.,\n",
              "       0., 0., 0., 0., 0., 0., 0., 0., 0., 0., 0., 0., 0., 0., 0., 0., 0.,\n",
              "       0., 0., 0., 0., 0., 0., 0., 0., 0., 0., 0., 0., 0., 0., 0., 0., 0.,\n",
              "       0., 0., 0., 0., 0., 0., 0., 0., 0., 0., 0., 0., 0., 0., 0., 0., 0.,\n",
              "       0., 0., 0., 0., 0., 0., 0., 0., 0., 0., 0., 0., 0., 0., 0., 0., 0.,\n",
              "       0., 0., 0., 0., 0., 0., 0., 0., 0., 0., 0., 0., 0., 0., 0., 0., 0.,\n",
              "       0., 0., 0., 0., 0., 0., 0., 0., 0., 0., 0., 0., 0., 0., 0., 0., 0.,\n",
              "       0., 0., 0., 0., 0., 0., 0., 0., 0., 0., 0., 0., 0., 0., 0., 0., 0.,\n",
              "       0., 0., 0., 0., 0., 0., 0., 0., 0., 0., 0., 0., 0., 0., 0., 0., 0.,\n",
              "       0., 0., 0., 0., 0., 0., 0., 0., 0., 0., 0., 0., 0., 0., 0., 0., 0.,\n",
              "       0., 0., 0., 0., 0., 0., 0., 0., 0., 0., 0., 0., 0., 0., 0., 0., 0.,\n",
              "       0., 0., 0., 0., 0., 0., 0., 0., 0., 0., 0., 0., 0., 0., 0., 0., 0.,\n",
              "       0., 0., 0., 0., 0., 0., 0., 0., 0., 0., 0., 0., 0., 0., 0., 0., 0.,\n",
              "       0., 0., 0., 0., 0., 0., 0., 0., 0., 0., 0., 0., 0., 0., 0., 0., 0.,\n",
              "       0., 0., 0., 0., 0., 0., 0., 0., 0., 0., 0.], dtype=float32)"
            ]
          },
          "metadata": {
            "tags": []
          },
          "execution_count": 32
        }
      ]
    },
    {
      "cell_type": "code",
      "metadata": {
        "colab": {
          "base_uri": "https://localhost:8080/"
        },
        "id": "pvuW9nHw3x0b",
        "outputId": "c9629564-7711-4a3e-cf53-06385e1d9966"
      },
      "source": [
        "biases.shape"
      ],
      "execution_count": null,
      "outputs": [
        {
          "output_type": "execute_result",
          "data": {
            "text/plain": [
              "(300,)"
            ]
          },
          "metadata": {
            "tags": []
          },
          "execution_count": 33
        }
      ]
    },
    {
      "cell_type": "code",
      "metadata": {
        "id": "uQ-es8xW31pU"
      },
      "source": [
        "\n",
        "model.compile(loss=\"sparse_categorical_crossentropy\",\n",
        "              optimizer=\"sgd\",\n",
        "              metrics=[\"accuracy\"])"
      ],
      "execution_count": null,
      "outputs": []
    },
    {
      "cell_type": "markdown",
      "metadata": {
        "id": "PzlQuhbl36kb"
      },
      "source": [
        "This is equivalent to:\n",
        "\n",
        "model.compile(loss=keras.losses.sparse_categorical_crossentropy,\n",
        "              optimizer=keras.optimizers.SGD(),\n",
        "              metrics=[keras.metrics.sparse_categorical_accuracy])"
      ]
    },
    {
      "cell_type": "code",
      "metadata": {
        "colab": {
          "base_uri": "https://localhost:8080/"
        },
        "id": "w1eia_8y37Co",
        "outputId": "cf3f5299-28e0-4a7b-cb5b-b7e984a2b64e"
      },
      "source": [
        "history = model.fit(X_train, y_train, epochs=30,\n",
        "                    validation_data=(X_valid, y_valid))"
      ],
      "execution_count": null,
      "outputs": [
        {
          "output_type": "stream",
          "text": [
            "Epoch 1/30\n",
            "1719/1719 [==============================] - 5s 3ms/step - loss: 0.7237 - accuracy: 0.7643 - val_loss: 0.5213 - val_accuracy: 0.8226\n",
            "Epoch 2/30\n",
            "1719/1719 [==============================] - 4s 3ms/step - loss: 0.4842 - accuracy: 0.8318 - val_loss: 0.4353 - val_accuracy: 0.8526\n",
            "Epoch 3/30\n",
            "1719/1719 [==============================] - 4s 3ms/step - loss: 0.4391 - accuracy: 0.8458 - val_loss: 0.5304 - val_accuracy: 0.7996\n",
            "Epoch 4/30\n",
            "1719/1719 [==============================] - 4s 2ms/step - loss: 0.4123 - accuracy: 0.8566 - val_loss: 0.3916 - val_accuracy: 0.8650\n",
            "Epoch 5/30\n",
            "1719/1719 [==============================] - 4s 3ms/step - loss: 0.3939 - accuracy: 0.8622 - val_loss: 0.3745 - val_accuracy: 0.8690\n",
            "Epoch 6/30\n",
            "1719/1719 [==============================] - 4s 3ms/step - loss: 0.3752 - accuracy: 0.8675 - val_loss: 0.3718 - val_accuracy: 0.8724\n",
            "Epoch 7/30\n",
            "1719/1719 [==============================] - 5s 3ms/step - loss: 0.3631 - accuracy: 0.8716 - val_loss: 0.3616 - val_accuracy: 0.8736\n",
            "Epoch 8/30\n",
            "1719/1719 [==============================] - 5s 3ms/step - loss: 0.3514 - accuracy: 0.8747 - val_loss: 0.3853 - val_accuracy: 0.8608\n",
            "Epoch 9/30\n",
            "1719/1719 [==============================] - 4s 3ms/step - loss: 0.3412 - accuracy: 0.8793 - val_loss: 0.3573 - val_accuracy: 0.8718\n",
            "Epoch 10/30\n",
            "1719/1719 [==============================] - 4s 3ms/step - loss: 0.3317 - accuracy: 0.8821 - val_loss: 0.3420 - val_accuracy: 0.8786\n",
            "Epoch 11/30\n",
            "1719/1719 [==============================] - 4s 2ms/step - loss: 0.3238 - accuracy: 0.8839 - val_loss: 0.3450 - val_accuracy: 0.8770\n",
            "Epoch 12/30\n",
            "1719/1719 [==============================] - 4s 3ms/step - loss: 0.3147 - accuracy: 0.8865 - val_loss: 0.3306 - val_accuracy: 0.8832\n",
            "Epoch 13/30\n",
            "1719/1719 [==============================] - 4s 3ms/step - loss: 0.3077 - accuracy: 0.8896 - val_loss: 0.3274 - val_accuracy: 0.8868\n",
            "Epoch 14/30\n",
            "1719/1719 [==============================] - 4s 3ms/step - loss: 0.3019 - accuracy: 0.8917 - val_loss: 0.3420 - val_accuracy: 0.8772\n",
            "Epoch 15/30\n",
            "1719/1719 [==============================] - 4s 3ms/step - loss: 0.2943 - accuracy: 0.8940 - val_loss: 0.3222 - val_accuracy: 0.8842\n",
            "Epoch 16/30\n",
            "1719/1719 [==============================] - 4s 3ms/step - loss: 0.2889 - accuracy: 0.8971 - val_loss: 0.3090 - val_accuracy: 0.8906\n",
            "Epoch 17/30\n",
            "1719/1719 [==============================] - 4s 3ms/step - loss: 0.2835 - accuracy: 0.8979 - val_loss: 0.3546 - val_accuracy: 0.8736\n",
            "Epoch 18/30\n",
            "1719/1719 [==============================] - 4s 3ms/step - loss: 0.2775 - accuracy: 0.9006 - val_loss: 0.3136 - val_accuracy: 0.8902\n",
            "Epoch 19/30\n",
            "1719/1719 [==============================] - 4s 3ms/step - loss: 0.2726 - accuracy: 0.9024 - val_loss: 0.3110 - val_accuracy: 0.8904\n",
            "Epoch 20/30\n",
            "1719/1719 [==============================] - 4s 3ms/step - loss: 0.2671 - accuracy: 0.9036 - val_loss: 0.3271 - val_accuracy: 0.8818\n",
            "Epoch 21/30\n",
            "1719/1719 [==============================] - 4s 3ms/step - loss: 0.2621 - accuracy: 0.9056 - val_loss: 0.3066 - val_accuracy: 0.8926\n",
            "Epoch 22/30\n",
            "1719/1719 [==============================] - 4s 3ms/step - loss: 0.2576 - accuracy: 0.9071 - val_loss: 0.2968 - val_accuracy: 0.8972\n",
            "Epoch 23/30\n",
            "1719/1719 [==============================] - 4s 3ms/step - loss: 0.2533 - accuracy: 0.9086 - val_loss: 0.2997 - val_accuracy: 0.8936\n",
            "Epoch 24/30\n",
            "1719/1719 [==============================] - 4s 3ms/step - loss: 0.2484 - accuracy: 0.9104 - val_loss: 0.3079 - val_accuracy: 0.8890\n",
            "Epoch 25/30\n",
            "1719/1719 [==============================] - 4s 3ms/step - loss: 0.2442 - accuracy: 0.9127 - val_loss: 0.2977 - val_accuracy: 0.8948\n",
            "Epoch 26/30\n",
            "1719/1719 [==============================] - 4s 3ms/step - loss: 0.2404 - accuracy: 0.9138 - val_loss: 0.3069 - val_accuracy: 0.8906\n",
            "Epoch 27/30\n",
            "1719/1719 [==============================] - 4s 3ms/step - loss: 0.2360 - accuracy: 0.9155 - val_loss: 0.3040 - val_accuracy: 0.8940\n",
            "Epoch 28/30\n",
            "1719/1719 [==============================] - 4s 2ms/step - loss: 0.2327 - accuracy: 0.9166 - val_loss: 0.3003 - val_accuracy: 0.8934\n",
            "Epoch 29/30\n",
            "1719/1719 [==============================] - 4s 3ms/step - loss: 0.2284 - accuracy: 0.9181 - val_loss: 0.3050 - val_accuracy: 0.8908\n",
            "Epoch 30/30\n",
            "1719/1719 [==============================] - 4s 2ms/step - loss: 0.2248 - accuracy: 0.9203 - val_loss: 0.3055 - val_accuracy: 0.8934\n"
          ],
          "name": "stdout"
        }
      ]
    },
    {
      "cell_type": "code",
      "metadata": {
        "colab": {
          "base_uri": "https://localhost:8080/"
        },
        "id": "MX3O3s_V3-a0",
        "outputId": "167fe63f-0839-43cf-c572-b6108accab5d"
      },
      "source": [
        "history.params"
      ],
      "execution_count": null,
      "outputs": [
        {
          "output_type": "execute_result",
          "data": {
            "text/plain": [
              "{'epochs': 30, 'steps': 1719, 'verbose': 1}"
            ]
          },
          "metadata": {
            "tags": []
          },
          "execution_count": 37
        }
      ]
    },
    {
      "cell_type": "code",
      "metadata": {
        "colab": {
          "base_uri": "https://localhost:8080/"
        },
        "id": "0nQ7PaUy84Cr",
        "outputId": "d700eba4-9fff-46a6-95cc-2af4c23833fd"
      },
      "source": [
        "print(history.epoch)"
      ],
      "execution_count": null,
      "outputs": [
        {
          "output_type": "stream",
          "text": [
            "[0, 1, 2, 3, 4, 5, 6, 7, 8, 9, 10, 11, 12, 13, 14, 15, 16, 17, 18, 19, 20, 21, 22, 23, 24, 25, 26, 27, 28, 29]\n"
          ],
          "name": "stdout"
        }
      ]
    },
    {
      "cell_type": "code",
      "metadata": {
        "colab": {
          "base_uri": "https://localhost:8080/"
        },
        "id": "5Wi9ZKAs85qs",
        "outputId": "b9709475-19fe-4c9f-95b7-7fb89bd944ad"
      },
      "source": [
        "history.history.keys()"
      ],
      "execution_count": null,
      "outputs": [
        {
          "output_type": "execute_result",
          "data": {
            "text/plain": [
              "dict_keys(['loss', 'accuracy', 'val_loss', 'val_accuracy'])"
            ]
          },
          "metadata": {
            "tags": []
          },
          "execution_count": 39
        }
      ]
    },
    {
      "cell_type": "code",
      "metadata": {
        "colab": {
          "base_uri": "https://localhost:8080/",
          "height": 324
        },
        "id": "F-G88gmQ87-K",
        "outputId": "8f174bd6-de4a-4c3e-83ac-913c66fba646"
      },
      "source": [
        "import pandas as pd\n",
        "\n",
        "pd.DataFrame(history.history).plot(figsize=(8, 5))\n",
        "plt.grid(True)\n",
        "plt.gca().set_ylim(0, 1)\n",
        "# save_fig(\"keras_learning_curves_plot\")\n",
        "plt.show()"
      ],
      "execution_count": null,
      "outputs": [
        {
          "output_type": "display_data",
          "data": {
            "image/png": "[encoded data removed]",
            "text/plain": [
              "<Figure size 576x360 with 1 Axes>"
            ]
          },
          "metadata": {
            "tags": [],
            "needs_background": "light"
          }
        }
      ]
    },
    {
      "cell_type": "code",
      "metadata": {
        "colab": {
          "base_uri": "https://localhost:8080/"
        },
        "id": "Ot-qqPdc8_qa",
        "outputId": "303bbddf-c99a-4e5e-880e-23c463b48b4b"
      },
      "source": [
        "model.evaluate(X_test, y_test)"
      ],
      "execution_count": null,
      "outputs": [
        {
          "output_type": "stream",
          "text": [
            "313/313 [==============================] - 0s 1ms/step - loss: 0.3382 - accuracy: 0.8822\n"
          ],
          "name": "stdout"
        },
        {
          "output_type": "execute_result",
          "data": {
            "text/plain": [
              "[0.3381877839565277, 0.8822000026702881]"
            ]
          },
          "metadata": {
            "tags": []
          },
          "execution_count": 42
        }
      ]
    },
    {
      "cell_type": "code",
      "metadata": {
        "colab": {
          "base_uri": "https://localhost:8080/"
        },
        "id": "hFS0KoAf9Bm0",
        "outputId": "72334bb3-c23f-4e26-8a26-aa5af04ae53c"
      },
      "source": [
        "X_new = X_test[:3]\n",
        "y_proba = model.predict(X_new)\n",
        "y_proba.round(2)"
      ],
      "execution_count": null,
      "outputs": [
        {
          "output_type": "execute_result",
          "data": {
            "text/plain": [
              "array([[0.  , 0.  , 0.  , 0.  , 0.  , 0.01, 0.  , 0.03, 0.  , 0.96],\n",
              "       [0.  , 0.  , 0.99, 0.  , 0.01, 0.  , 0.  , 0.  , 0.  , 0.  ],\n",
              "       [0.  , 1.  , 0.  , 0.  , 0.  , 0.  , 0.  , 0.  , 0.  , 0.  ]],\n",
              "      dtype=float32)"
            ]
          },
          "metadata": {
            "tags": []
          },
          "execution_count": 43
        }
      ]
    },
    {
      "cell_type": "code",
      "metadata": {
        "colab": {
          "base_uri": "https://localhost:8080/"
        },
        "id": "qUsj-iHT9DhC",
        "outputId": "10615f77-e34a-4c3b-a5bf-3df661f293c9"
      },
      "source": [
        "y_pred = model.predict_classes(X_new)\n",
        "y_pred"
      ],
      "execution_count": null,
      "outputs": [
        {
          "output_type": "stream",
          "text": [
            "WARNING:tensorflow:From <ipython-input-44-81ace37e545f>:1: Sequential.predict_classes (from tensorflow.python.keras.engine.sequential) is deprecated and will be removed after 2021-01-01.\n",
            "Instructions for updating:\n",
            "Please use instead:* `np.argmax(model.predict(x), axis=-1)`,   if your model does multi-class classification   (e.g. if it uses a `softmax` last-layer activation).* `(model.predict(x) > 0.5).astype(\"int32\")`,   if your model does binary classification   (e.g. if it uses a `sigmoid` last-layer activation).\n"
          ],
          "name": "stdout"
        },
        {
          "output_type": "execute_result",
          "data": {
            "text/plain": [
              "array([9, 2, 1])"
            ]
          },
          "metadata": {
            "tags": []
          },
          "execution_count": 44
        }
      ]
    },
    {
      "cell_type": "code",
      "metadata": {
        "colab": {
          "base_uri": "https://localhost:8080/"
        },
        "id": "umj0FsFd9FbQ",
        "outputId": "63fd9ced-fd1b-4251-bce5-5f388534160b"
      },
      "source": [
        "np.array(class_names)[y_pred]"
      ],
      "execution_count": null,
      "outputs": [
        {
          "output_type": "execute_result",
          "data": {
            "text/plain": [
              "array(['Ankle boot', 'Pullover', 'Trouser'], dtype='<U11')"
            ]
          },
          "metadata": {
            "tags": []
          },
          "execution_count": 45
        }
      ]
    },
    {
      "cell_type": "code",
      "metadata": {
        "colab": {
          "base_uri": "https://localhost:8080/"
        },
        "id": "VubQXvlb9HgK",
        "outputId": "e9a1b2ee-9150-494d-fe40-4413da5d8c55"
      },
      "source": [
        "y_new = y_test[:3]\n",
        "y_new"
      ],
      "execution_count": null,
      "outputs": [
        {
          "output_type": "execute_result",
          "data": {
            "text/plain": [
              "array([9, 2, 1], dtype=uint8)"
            ]
          },
          "metadata": {
            "tags": []
          },
          "execution_count": 46
        }
      ]
    },
    {
      "cell_type": "code",
      "metadata": {
        "colab": {
          "base_uri": "https://localhost:8080/",
          "height": 165
        },
        "id": "kcMDrwoV9J6U",
        "outputId": "7605cf6e-af5b-4bcd-ce22-3dc3a0aee0d2"
      },
      "source": [
        "plt.figure(figsize=(7.2, 2.4))\n",
        "for index, image in enumerate(X_new):\n",
        "    plt.subplot(1, 3, index + 1)\n",
        "    plt.imshow(image, cmap=\"binary\", interpolation=\"nearest\")\n",
        "    plt.axis('off')\n",
        "    plt.title(class_names[y_test[index]], fontsize=12)\n",
        "plt.subplots_adjust(wspace=0.2, hspace=0.5)\n",
        "# save_fig('fashion_mnist_images_plot', tight_layout=False)\n",
        "plt.show()"
      ],
      "execution_count": null,
      "outputs": [
        {
          "output_type": "display_data",
          "data": {
            "image/png": "[encoded data removed]",
            "text/plain": [
              "<Figure size 518.4x172.8 with 3 Axes>"
            ]
          },
          "metadata": {
            "tags": [],
            "needs_background": "light"
          }
        }
      ]
    }
  ]
}